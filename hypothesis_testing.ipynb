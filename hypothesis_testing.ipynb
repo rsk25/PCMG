{
 "cells": [
  {
   "cell_type": "code",
   "execution_count": 1,
   "metadata": {},
   "outputs": [],
   "source": [
    "import scipy.stats as stats\n",
    "import matplotlib.pyplot as plt\n",
    "import pandas as pd\n",
    "import numpy as np\n",
    "from hypothesis_testing_pipeline import *"
   ]
  },
  {
   "cell_type": "markdown",
   "metadata": {},
   "source": [
    "# Preprocess"
   ]
  },
  {
   "cell_type": "code",
   "execution_count": 2,
   "metadata": {},
   "outputs": [],
   "source": [
    "data = pd.read_csv('survey_data.csv', header=None)"
   ]
  },
  {
   "cell_type": "code",
   "execution_count": 3,
   "metadata": {},
   "outputs": [],
   "source": [
    "solvability_data = data.iloc[::5]\n",
    "readability_data = data.iloc[data.index % 5 != 0]"
   ]
  },
  {
   "cell_type": "code",
   "execution_count": 4,
   "metadata": {},
   "outputs": [],
   "source": [
    "human_s = solvability_data[solvability_data.index % 15 == 0].to_numpy()\n",
    "pcmg_s = solvability_data[solvability_data.index % 15 == 5].to_numpy()\n",
    "gpt2_s = solvability_data[solvability_data.index % 15 == 10].to_numpy()"
   ]
  },
  {
   "cell_type": "code",
   "execution_count": 5,
   "metadata": {},
   "outputs": [],
   "source": [
    "human_r_index = [i for i in range(len(readability_data)) if i % 12 in range(0,4)]\n",
    "pcmg_r_index = [i for i in range(len(readability_data)) if i % 12 in range(4,8)]\n",
    "gpt2_r_index = [i for i in range(len(readability_data)) if i % 12 in range(8,12)]"
   ]
  },
  {
   "cell_type": "code",
   "execution_count": 6,
   "metadata": {},
   "outputs": [],
   "source": [
    "human_r = readability_data.iloc[human_r_index].to_numpy()\n",
    "pcmg_r = readability_data.iloc[pcmg_r_index].to_numpy()\n",
    "gpt2_r = readability_data.iloc[gpt2_r_index].to_numpy()"
   ]
  },
  {
   "cell_type": "code",
   "execution_count": 7,
   "metadata": {},
   "outputs": [
    {
     "data": {
      "text/plain": [
       "(40, 12)"
      ]
     },
     "execution_count": 7,
     "metadata": {},
     "output_type": "execute_result"
    }
   ],
   "source": [
    "pcmg_r.shape"
   ]
  },
  {
   "cell_type": "markdown",
   "metadata": {},
   "source": [
    "# Hypothesis checking"
   ]
  },
  {
   "cell_type": "code",
   "execution_count": 8,
   "metadata": {},
   "outputs": [],
   "source": [
    "hypo_1 = np.concatenate((pcmg_s.reshape(1,-1),human_s.reshape(1,-1)),axis=0)"
   ]
  },
  {
   "cell_type": "code",
   "execution_count": 9,
   "metadata": {},
   "outputs": [
    {
     "name": "stdout",
     "output_type": "stream",
     "text": [
      "Mann-Whitney U-test TOST\n",
      "p-value: 0.05, reject_alternative: False\n"
     ]
    }
   ],
   "source": [
    "HypothesisTester(hypo_1, is_tost=True, is_pair=False, normality=False).print_results()"
   ]
  },
  {
   "cell_type": "code",
   "execution_count": 10,
   "metadata": {},
   "outputs": [],
   "source": [
    "hypo_2 = np.concatenate((pcmg_r.reshape(1,-1),human_r.reshape(1,-1)),axis=0)"
   ]
  },
  {
   "cell_type": "code",
   "execution_count": 11,
   "metadata": {},
   "outputs": [
    {
     "name": "stdout",
     "output_type": "stream",
     "text": [
      "Mann-Whitney U-test TOST\n",
      "p-value: 0.05, reject_alternative: False\n"
     ]
    }
   ],
   "source": [
    "HypothesisTester(hypo_2, is_tost=True, is_pair=False, normality=False).print_results()"
   ]
  },
  {
   "cell_type": "code",
   "execution_count": 12,
   "metadata": {},
   "outputs": [],
   "source": [
    "hypo_3 = np.concatenate((pcmg_s.reshape(1,-1),gpt2_s.reshape(1,-1)),axis=0)"
   ]
  },
  {
   "cell_type": "code",
   "execution_count": 13,
   "metadata": {},
   "outputs": [
    {
     "name": "stdout",
     "output_type": "stream",
     "text": [
      "Mann-Whitney U-test\n",
      "statistic: 9452.0, p-value: 4.455797591046486e-06, reject_alternative: False\n"
     ]
    }
   ],
   "source": [
    "HypothesisTester(hypo_3, is_pair=False, normality=False).print_results()"
   ]
  },
  {
   "cell_type": "code",
   "execution_count": 14,
   "metadata": {},
   "outputs": [],
   "source": [
    "hypo_4 = np.concatenate((pcmg_r.reshape(1,-1),gpt2_r.reshape(1,-1)),axis=0)"
   ]
  },
  {
   "cell_type": "code",
   "execution_count": 15,
   "metadata": {},
   "outputs": [
    {
     "name": "stdout",
     "output_type": "stream",
     "text": [
      "Mann-Whitney U-test\n",
      "statistic: 135929.5, p-value: 3.2760977054538855e-07, reject_alternative: False\n"
     ]
    }
   ],
   "source": [
    "HypothesisTester(hypo_4, is_pair=False, normality=False).print_results()"
   ]
  },
  {
   "cell_type": "code",
   "execution_count": null,
   "metadata": {},
   "outputs": [],
   "source": []
  }
 ],
 "metadata": {
  "kernelspec": {
   "display_name": "Python 3.8.10 ('eptg_venv': venv)",
   "language": "python",
   "name": "python3"
  },
  "language_info": {
   "codemirror_mode": {
    "name": "ipython",
    "version": 3
   },
   "file_extension": ".py",
   "mimetype": "text/x-python",
   "name": "python",
   "nbconvert_exporter": "python",
   "pygments_lexer": "ipython3",
   "version": "3.8.10"
  },
  "orig_nbformat": 4,
  "vscode": {
   "interpreter": {
    "hash": "12d3484dd52b1489638fb36511337dccd465c620940d2bd74ae27fd85e19efab"
   }
  }
 },
 "nbformat": 4,
 "nbformat_minor": 2
}
