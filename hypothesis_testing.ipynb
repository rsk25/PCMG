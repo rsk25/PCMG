{
 "cells": [
  {
   "cell_type": "code",
   "execution_count": 1,
   "metadata": {},
   "outputs": [],
   "source": [
    "import scipy.stats as stats\n",
    "import matplotlib.pyplot as plt\n",
    "import pandas as pd\n",
    "import numpy as np\n",
    "from hypothesis_testing_pipeline import *"
   ]
  },
  {
   "cell_type": "code",
   "execution_count": 2,
   "metadata": {},
   "outputs": [],
   "source": [
    "dummy_data = pd.read_csv('dummy_data.csv', header=None)\n",
    "dummy_data_transposed = dummy_data.transpose()\n",
    "hypo_0 = dummy_data_transposed.iloc[:2,:].to_numpy()\n",
    "hypo_1 = dummy_data_transposed.iloc[1:,:].to_numpy()"
   ]
  },
  {
   "cell_type": "code",
   "execution_count": 3,
   "metadata": {},
   "outputs": [
    {
     "data": {
      "text/plain": [
       "array([[2.6, 1.8, 2.6, 2.6, 2.4, 1. ],\n",
       "       [2.6, 2. , 2.6, 2.6, 2.4, 1.6]])"
      ]
     },
     "execution_count": 3,
     "metadata": {},
     "output_type": "execute_result"
    }
   ],
   "source": [
    "hypo_0"
   ]
  },
  {
   "cell_type": "code",
   "execution_count": 4,
   "metadata": {},
   "outputs": [
    {
     "data": {
      "text/plain": [
       "array([[2.6, 2. , 2.6, 2.6, 2.4, 1.6],\n",
       "       [2.6, 1.8, 2.6, 2.6, 2.4, 1. ]])"
      ]
     },
     "execution_count": 4,
     "metadata": {},
     "output_type": "execute_result"
    }
   ],
   "source": [
    "hypo_1"
   ]
  },
  {
   "cell_type": "code",
   "execution_count": 5,
   "metadata": {},
   "outputs": [],
   "source": [
    "assert type(hypo_0) is np.ndarray and type(hypo_1) is np.ndarray"
   ]
  },
  {
   "cell_type": "markdown",
   "metadata": {},
   "source": [
    "# Hypothesis checking"
   ]
  },
  {
   "cell_type": "code",
   "execution_count": 6,
   "metadata": {},
   "outputs": [
    {
     "name": "stdout",
     "output_type": "stream",
     "text": [
      "[2.6 2.  2.6 2.6 2.4 1.6]\n",
      "T-test TOST\n",
      "0.004774102433613086\n",
      "p-value: 0.004774102433613086, reject_alternative: False\n"
     ]
    }
   ],
   "source": [
    "HypothesisTester(hypo_0, is_tost=True, is_pair=False, normality=True).print_results()"
   ]
  },
  {
   "cell_type": "code",
   "execution_count": 7,
   "metadata": {},
   "outputs": [
    {
     "name": "stdout",
     "output_type": "stream",
     "text": [
      "T-test\n",
      "0.3404390967413118\n",
      "statistic: 0.42352354988762664, p-value: 0.3404390967413118, reject_alternative: True\n"
     ]
    }
   ],
   "source": [
    "HypothesisTester(hypo_1,is_pair=False, normality=True).print_results()"
   ]
  },
  {
   "cell_type": "code",
   "execution_count": 8,
   "metadata": {},
   "outputs": [],
   "source": [
    "arr = np.array([[2.6, 1.8, 2.6, 2.6, 2.4, 1. ], [2.6, 1.8, 2.6, 2.6, 2.4, 1. ]])"
   ]
  },
  {
   "cell_type": "code",
   "execution_count": 9,
   "metadata": {},
   "outputs": [
    {
     "data": {
      "text/plain": [
       "array([[2.6, 1.8, 2.6, 2.6, 2.4, 1. ],\n",
       "       [2.6, 1.8, 2.6, 2.6, 2.4, 1. ]])"
      ]
     },
     "execution_count": 9,
     "metadata": {},
     "output_type": "execute_result"
    }
   ],
   "source": [
    "arr"
   ]
  },
  {
   "cell_type": "code",
   "execution_count": 10,
   "metadata": {},
   "outputs": [],
   "source": [
    "diff = 0.05"
   ]
  },
  {
   "cell_type": "code",
   "execution_count": 11,
   "metadata": {},
   "outputs": [
    {
     "data": {
      "text/plain": [
       "array([2.55, 1.75, 2.55, 2.55, 2.35, 0.95])"
      ]
     },
     "execution_count": 11,
     "metadata": {},
     "output_type": "execute_result"
    }
   ],
   "source": [
    "arr[0] - diff"
   ]
  },
  {
   "cell_type": "code",
   "execution_count": null,
   "metadata": {},
   "outputs": [],
   "source": []
  }
 ],
 "metadata": {
  "kernelspec": {
   "display_name": "Python 3.8.10 ('eptg_venv': venv)",
   "language": "python",
   "name": "python3"
  },
  "language_info": {
   "codemirror_mode": {
    "name": "ipython",
    "version": 3
   },
   "file_extension": ".py",
   "mimetype": "text/x-python",
   "name": "python",
   "nbconvert_exporter": "python",
   "pygments_lexer": "ipython3",
   "version": "3.8.10"
  },
  "orig_nbformat": 4,
  "vscode": {
   "interpreter": {
    "hash": "12d3484dd52b1489638fb36511337dccd465c620940d2bd74ae27fd85e19efab"
   }
  }
 },
 "nbformat": 4,
 "nbformat_minor": 2
}
