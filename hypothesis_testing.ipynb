{
 "cells": [
  {
   "cell_type": "code",
   "execution_count": 1,
   "metadata": {},
   "outputs": [],
   "source": [
    "import scipy.stats as stats\n",
    "import matplotlib.pyplot as plt\n",
    "import pandas as pd\n",
    "import numpy as np\n",
    "from hypothesis_testing_pipeline import *"
   ]
  },
  {
   "cell_type": "code",
   "execution_count": 2,
   "metadata": {},
   "outputs": [],
   "source": [
    "dummy_data = pd.read_csv('dummy_data.csv', header=None)\n",
    "dummy_data_transposed = dummy_data.transpose()\n",
    "hypo_0 = dummy_data_transposed.iloc[:2,:].to_numpy()\n",
    "hypo_1 = dummy_data_transposed.iloc[1:,:].to_numpy()"
   ]
  },
  {
   "cell_type": "code",
   "execution_count": 3,
   "metadata": {},
   "outputs": [],
   "source": [
    "assert type(hypo_0) is np.ndarray and type(hypo_0) is np.ndarray"
   ]
  },
  {
   "cell_type": "markdown",
   "metadata": {},
   "source": [
    "# Normality check"
   ]
  },
  {
   "cell_type": "code",
   "execution_count": 4,
   "metadata": {},
   "outputs": [],
   "source": [
    "%matplotlib inline\n",
    "ntester0 = NormalityTester(hypo_0)\n",
    "ntester1 = NormalityTester(hypo_0)"
   ]
  },
  {
   "cell_type": "markdown",
   "metadata": {},
   "source": [
    "# Hypthesis checking"
   ]
  },
  {
   "cell_type": "code",
   "execution_count": 5,
   "metadata": {},
   "outputs": [
    {
     "name": "stdout",
     "output_type": "stream",
     "text": [
      "Shapiro-Wilk Test\n",
      "Sample1: statistic: 0.7237712144851685, p-value: 3.5272769309813157e-06, is_normal: True\n",
      "Sample2: statistic: 0.7339842319488525, p-value: 5.070688985142624e-06, is_normal: True\n"
     ]
    },
    {
     "ename": "TypeError",
     "evalue": "tuple indices must be integers or slices, not str",
     "output_type": "error",
     "traceback": [
      "\u001b[0;31m---------------------------------------------------------------------------\u001b[0m",
      "\u001b[0;31mTypeError\u001b[0m                                 Traceback (most recent call last)",
      "Cell \u001b[0;32mIn [5], line 1\u001b[0m\n\u001b[0;32m----> 1\u001b[0m \u001b[43mntester0\u001b[49m\u001b[38;5;241;43m.\u001b[39;49m\u001b[43mprint_results\u001b[49m\u001b[43m(\u001b[49m\u001b[43m)\u001b[49m\n",
      "File \u001b[0;32m~/EPT_G/hypothesis_testing_pipeline.py:54\u001b[0m, in \u001b[0;36mNormalityTester.print_results\u001b[0;34m(self)\u001b[0m\n\u001b[1;32m     51\u001b[0m     ks_stat2, ks_p2 \u001b[39m=\u001b[39m stats\u001b[39m.\u001b[39mkstest(\u001b[39mself\u001b[39m\u001b[39m.\u001b[39mdata[\u001b[39m1\u001b[39m])\n\u001b[1;32m     52\u001b[0m     \u001b[39mself\u001b[39m\u001b[39m.\u001b[39mprint_stats(\u001b[39m\"\u001b[39m\u001b[39mKolmogorov-Smirnov Test\u001b[39m\u001b[39m\"\u001b[39m, (ks_stat1,ks_stat2), (ks_p1,ks_p2), (\u001b[39mself\u001b[39m\u001b[39m.\u001b[39mis_normal(ks_p1),\u001b[39mself\u001b[39m\u001b[39m.\u001b[39mis_normal(ks_p2)))\n\u001b[0;32m---> 54\u001b[0m k_stat1, k_p1 \u001b[39m=\u001b[39m stats\u001b[39m.\u001b[39;49mnormaltest(\u001b[39mself\u001b[39;49m\u001b[39m.\u001b[39;49mdata[\u001b[39m0\u001b[39;49m], \u001b[39m'\u001b[39;49m\u001b[39mnorm\u001b[39;49m\u001b[39m'\u001b[39;49m)\n\u001b[1;32m     55\u001b[0m k_stat2, k_p2 \u001b[39m=\u001b[39m stats\u001b[39m.\u001b[39mnormaltest(\u001b[39mself\u001b[39m\u001b[39m.\u001b[39mdata[\u001b[39m1\u001b[39m], \u001b[39m'\u001b[39m\u001b[39mnorm\u001b[39m\u001b[39m'\u001b[39m)\n\u001b[1;32m     56\u001b[0m \u001b[39mself\u001b[39m\u001b[39m.\u001b[39mprint_stats(\u001b[39m\"\u001b[39m\u001b[39md\u001b[39m\u001b[39m'\u001b[39m\u001b[39mAgostino K-square Test\u001b[39m\u001b[39m\"\u001b[39m,(k_stat1,k_stat2), (k_p1,k_p2), (\u001b[39mself\u001b[39m\u001b[39m.\u001b[39mis_normal(k_p1),\u001b[39mself\u001b[39m\u001b[39m.\u001b[39mis_normal(k_p2)))\n",
      "File \u001b[0;32m~/EPT_G/eptg_venv/lib/python3.8/site-packages/scipy/stats/_stats_py.py:1573\u001b[0m, in \u001b[0;36mnormaltest\u001b[0;34m(a, axis, nan_policy)\u001b[0m\n\u001b[1;32m   1570\u001b[0m     a \u001b[39m=\u001b[39m ma\u001b[39m.\u001b[39mmasked_invalid(a)\n\u001b[1;32m   1571\u001b[0m     \u001b[39mreturn\u001b[39;00m mstats_basic\u001b[39m.\u001b[39mnormaltest(a, axis)\n\u001b[0;32m-> 1573\u001b[0m s, _ \u001b[39m=\u001b[39m skewtest(a, axis)\n\u001b[1;32m   1574\u001b[0m k, _ \u001b[39m=\u001b[39m kurtosistest(a, axis)\n\u001b[1;32m   1575\u001b[0m k2 \u001b[39m=\u001b[39m s\u001b[39m*\u001b[39ms \u001b[39m+\u001b[39m k\u001b[39m*\u001b[39mk\n",
      "File \u001b[0;32m~/EPT_G/eptg_venv/lib/python3.8/site-packages/scipy/stats/_stats_py.py:1375\u001b[0m, in \u001b[0;36mskewtest\u001b[0;34m(a, axis, nan_policy, alternative)\u001b[0m\n\u001b[1;32m   1373\u001b[0m     a \u001b[39m=\u001b[39m np\u001b[39m.\u001b[39mravel(a)\n\u001b[1;32m   1374\u001b[0m     axis \u001b[39m=\u001b[39m \u001b[39m0\u001b[39m\n\u001b[0;32m-> 1375\u001b[0m b2 \u001b[39m=\u001b[39m skew(a, axis)\n\u001b[1;32m   1376\u001b[0m n \u001b[39m=\u001b[39m a\u001b[39m.\u001b[39mshape[axis]\n\u001b[1;32m   1377\u001b[0m \u001b[39mif\u001b[39;00m n \u001b[39m<\u001b[39m \u001b[39m8\u001b[39m:\n",
      "File \u001b[0;32m~/EPT_G/eptg_venv/lib/python3.8/site-packages/scipy/stats/_stats_py.py:1043\u001b[0m, in \u001b[0;36mskew\u001b[0;34m(a, axis, bias, nan_policy)\u001b[0m\n\u001b[1;32m    969\u001b[0m \u001b[39mr\u001b[39m\u001b[39m\"\"\"Compute the sample skewness of a data set.\u001b[39;00m\n\u001b[1;32m    970\u001b[0m \n\u001b[1;32m    971\u001b[0m \u001b[39mFor normally distributed data, the skewness should be about zero. For\u001b[39;00m\n\u001b[0;32m   (...)\u001b[0m\n\u001b[1;32m   1040\u001b[0m \n\u001b[1;32m   1041\u001b[0m \u001b[39m\"\"\"\u001b[39;00m\n\u001b[1;32m   1042\u001b[0m a, axis \u001b[39m=\u001b[39m _chk_asarray(a, axis)\n\u001b[0;32m-> 1043\u001b[0m n \u001b[39m=\u001b[39m a\u001b[39m.\u001b[39;49mshape[axis]\n\u001b[1;32m   1045\u001b[0m contains_nan, nan_policy \u001b[39m=\u001b[39m _contains_nan(a, nan_policy)\n\u001b[1;32m   1047\u001b[0m \u001b[39mif\u001b[39;00m contains_nan \u001b[39mand\u001b[39;00m nan_policy \u001b[39m==\u001b[39m \u001b[39m'\u001b[39m\u001b[39momit\u001b[39m\u001b[39m'\u001b[39m:\n",
      "\u001b[0;31mTypeError\u001b[0m: tuple indices must be integers or slices, not str"
     ]
    }
   ],
   "source": [
    "ntester0.print_results()"
   ]
  },
  {
   "cell_type": "code",
   "execution_count": null,
   "metadata": {},
   "outputs": [],
   "source": []
  }
 ],
 "metadata": {
  "kernelspec": {
   "display_name": "Python 3.8.10 ('eptg_venv': venv)",
   "language": "python",
   "name": "python3"
  },
  "language_info": {
   "codemirror_mode": {
    "name": "ipython",
    "version": 3
   },
   "file_extension": ".py",
   "mimetype": "text/x-python",
   "name": "python",
   "nbconvert_exporter": "python",
   "pygments_lexer": "ipython3",
   "version": "3.8.10"
  },
  "orig_nbformat": 4,
  "vscode": {
   "interpreter": {
    "hash": "12d3484dd52b1489638fb36511337dccd465c620940d2bd74ae27fd85e19efab"
   }
  }
 },
 "nbformat": 4,
 "nbformat_minor": 2
}
