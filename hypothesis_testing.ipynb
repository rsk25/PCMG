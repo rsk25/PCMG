{
 "cells": [
  {
   "cell_type": "code",
   "execution_count": 1,
   "metadata": {},
   "outputs": [],
   "source": [
    "import scipy.stats as stats\n",
    "import matplotlib.pyplot as plt\n",
    "import seaborn as sns\n",
    "import pandas as pd\n",
    "import numpy as np\n",
    "from typing import List\n",
    "\n",
    "from hypothesis_testing_pipeline import *\n"
   ]
  },
  {
   "cell_type": "code",
   "execution_count": 2,
   "metadata": {},
   "outputs": [],
   "source": [
    "def print_vector_results(arr: np.ndarray) -> None:\n",
    "    \n",
    "    for i in range(arr.shape[0]):\n",
    "        print(f\"Question {i+1}: {arr[i]}\")"
   ]
  },
  {
   "cell_type": "markdown",
   "metadata": {},
   "source": [
    "# Preprocess"
   ]
  },
  {
   "cell_type": "code",
   "execution_count": 3,
   "metadata": {},
   "outputs": [],
   "source": [
    "data = pd.read_csv('survey_data.csv', header=None)\n",
    "\n",
    "question_list = []\n",
    "q_num = 0\n",
    "for i in range(len(data)):\n",
    "    if i % 15 == 0:\n",
    "        q_num += 1\n",
    "    question_list.append(q_num)\n",
    "data['Question'] = question_list\n",
    "\n",
    "col_list = [f'Rater{i}' for i in range(1,13)] + ['Question']\n",
    "data.columns = col_list\n",
    "\n",
    "# The creator of the question: Human-made, PCMG, GPT2-based\n",
    "creators = ['Human-made']*5 + ['PCMG']*5 + ['GPT2-based']*5\n",
    "creator_list = creators*(len(data)//15)\n",
    "# The type of data: Solvability or Readability\n",
    "types = ['Solvability'] + ['Readability']*4\n",
    "type_list = types*(len(data)//5)\n",
    "data['Creator'] = creator_list\n",
    "data['Type'] = type_list"
   ]
  },
  {
   "cell_type": "code",
   "execution_count": 4,
   "metadata": {},
   "outputs": [
    {
     "data": {
      "text/html": [
       "<div>\n",
       "<style scoped>\n",
       "    .dataframe tbody tr th:only-of-type {\n",
       "        vertical-align: middle;\n",
       "    }\n",
       "\n",
       "    .dataframe tbody tr th {\n",
       "        vertical-align: top;\n",
       "    }\n",
       "\n",
       "    .dataframe thead th {\n",
       "        text-align: right;\n",
       "    }\n",
       "</style>\n",
       "<table border=\"1\" class=\"dataframe\">\n",
       "  <thead>\n",
       "    <tr style=\"text-align: right;\">\n",
       "      <th></th>\n",
       "      <th>Rater1</th>\n",
       "      <th>Rater2</th>\n",
       "      <th>Rater3</th>\n",
       "      <th>Rater4</th>\n",
       "      <th>Rater5</th>\n",
       "      <th>Rater6</th>\n",
       "      <th>Rater7</th>\n",
       "      <th>Rater8</th>\n",
       "      <th>Rater9</th>\n",
       "      <th>Rater10</th>\n",
       "      <th>Rater11</th>\n",
       "      <th>Rater12</th>\n",
       "      <th>Question</th>\n",
       "      <th>Creator</th>\n",
       "      <th>Type</th>\n",
       "    </tr>\n",
       "  </thead>\n",
       "  <tbody>\n",
       "    <tr>\n",
       "      <th>0</th>\n",
       "      <td>1</td>\n",
       "      <td>2</td>\n",
       "      <td>2</td>\n",
       "      <td>1</td>\n",
       "      <td>2</td>\n",
       "      <td>2</td>\n",
       "      <td>0</td>\n",
       "      <td>2</td>\n",
       "      <td>2</td>\n",
       "      <td>2</td>\n",
       "      <td>1</td>\n",
       "      <td>1</td>\n",
       "      <td>1</td>\n",
       "      <td>Human-made</td>\n",
       "      <td>Solvability</td>\n",
       "    </tr>\n",
       "    <tr>\n",
       "      <th>1</th>\n",
       "      <td>4</td>\n",
       "      <td>3</td>\n",
       "      <td>4</td>\n",
       "      <td>4</td>\n",
       "      <td>4</td>\n",
       "      <td>3</td>\n",
       "      <td>4</td>\n",
       "      <td>4</td>\n",
       "      <td>4</td>\n",
       "      <td>4</td>\n",
       "      <td>4</td>\n",
       "      <td>3</td>\n",
       "      <td>1</td>\n",
       "      <td>Human-made</td>\n",
       "      <td>Readability</td>\n",
       "    </tr>\n",
       "    <tr>\n",
       "      <th>2</th>\n",
       "      <td>4</td>\n",
       "      <td>4</td>\n",
       "      <td>4</td>\n",
       "      <td>2</td>\n",
       "      <td>4</td>\n",
       "      <td>2</td>\n",
       "      <td>3</td>\n",
       "      <td>4</td>\n",
       "      <td>4</td>\n",
       "      <td>4</td>\n",
       "      <td>2</td>\n",
       "      <td>3</td>\n",
       "      <td>1</td>\n",
       "      <td>Human-made</td>\n",
       "      <td>Readability</td>\n",
       "    </tr>\n",
       "    <tr>\n",
       "      <th>3</th>\n",
       "      <td>1</td>\n",
       "      <td>4</td>\n",
       "      <td>4</td>\n",
       "      <td>4</td>\n",
       "      <td>4</td>\n",
       "      <td>2</td>\n",
       "      <td>4</td>\n",
       "      <td>4</td>\n",
       "      <td>4</td>\n",
       "      <td>4</td>\n",
       "      <td>4</td>\n",
       "      <td>4</td>\n",
       "      <td>1</td>\n",
       "      <td>Human-made</td>\n",
       "      <td>Readability</td>\n",
       "    </tr>\n",
       "    <tr>\n",
       "      <th>4</th>\n",
       "      <td>4</td>\n",
       "      <td>4</td>\n",
       "      <td>4</td>\n",
       "      <td>3</td>\n",
       "      <td>4</td>\n",
       "      <td>3</td>\n",
       "      <td>2</td>\n",
       "      <td>4</td>\n",
       "      <td>4</td>\n",
       "      <td>4</td>\n",
       "      <td>4</td>\n",
       "      <td>4</td>\n",
       "      <td>1</td>\n",
       "      <td>Human-made</td>\n",
       "      <td>Readability</td>\n",
       "    </tr>\n",
       "    <tr>\n",
       "      <th>...</th>\n",
       "      <td>...</td>\n",
       "      <td>...</td>\n",
       "      <td>...</td>\n",
       "      <td>...</td>\n",
       "      <td>...</td>\n",
       "      <td>...</td>\n",
       "      <td>...</td>\n",
       "      <td>...</td>\n",
       "      <td>...</td>\n",
       "      <td>...</td>\n",
       "      <td>...</td>\n",
       "      <td>...</td>\n",
       "      <td>...</td>\n",
       "      <td>...</td>\n",
       "      <td>...</td>\n",
       "    </tr>\n",
       "    <tr>\n",
       "      <th>145</th>\n",
       "      <td>1</td>\n",
       "      <td>1</td>\n",
       "      <td>1</td>\n",
       "      <td>1</td>\n",
       "      <td>0</td>\n",
       "      <td>1</td>\n",
       "      <td>0</td>\n",
       "      <td>1</td>\n",
       "      <td>0</td>\n",
       "      <td>1</td>\n",
       "      <td>0</td>\n",
       "      <td>0</td>\n",
       "      <td>10</td>\n",
       "      <td>GPT2-based</td>\n",
       "      <td>Solvability</td>\n",
       "    </tr>\n",
       "    <tr>\n",
       "      <th>146</th>\n",
       "      <td>0</td>\n",
       "      <td>2</td>\n",
       "      <td>1</td>\n",
       "      <td>4</td>\n",
       "      <td>0</td>\n",
       "      <td>3</td>\n",
       "      <td>3</td>\n",
       "      <td>2</td>\n",
       "      <td>1</td>\n",
       "      <td>2</td>\n",
       "      <td>2</td>\n",
       "      <td>1</td>\n",
       "      <td>10</td>\n",
       "      <td>GPT2-based</td>\n",
       "      <td>Readability</td>\n",
       "    </tr>\n",
       "    <tr>\n",
       "      <th>147</th>\n",
       "      <td>0</td>\n",
       "      <td>3</td>\n",
       "      <td>1</td>\n",
       "      <td>3</td>\n",
       "      <td>0</td>\n",
       "      <td>3</td>\n",
       "      <td>4</td>\n",
       "      <td>2</td>\n",
       "      <td>1</td>\n",
       "      <td>1</td>\n",
       "      <td>2</td>\n",
       "      <td>0</td>\n",
       "      <td>10</td>\n",
       "      <td>GPT2-based</td>\n",
       "      <td>Readability</td>\n",
       "    </tr>\n",
       "    <tr>\n",
       "      <th>148</th>\n",
       "      <td>0</td>\n",
       "      <td>3</td>\n",
       "      <td>2</td>\n",
       "      <td>4</td>\n",
       "      <td>0</td>\n",
       "      <td>3</td>\n",
       "      <td>3</td>\n",
       "      <td>3</td>\n",
       "      <td>0</td>\n",
       "      <td>1</td>\n",
       "      <td>0</td>\n",
       "      <td>0</td>\n",
       "      <td>10</td>\n",
       "      <td>GPT2-based</td>\n",
       "      <td>Readability</td>\n",
       "    </tr>\n",
       "    <tr>\n",
       "      <th>149</th>\n",
       "      <td>0</td>\n",
       "      <td>2</td>\n",
       "      <td>3</td>\n",
       "      <td>2</td>\n",
       "      <td>0</td>\n",
       "      <td>3</td>\n",
       "      <td>2</td>\n",
       "      <td>0</td>\n",
       "      <td>2</td>\n",
       "      <td>1</td>\n",
       "      <td>0</td>\n",
       "      <td>0</td>\n",
       "      <td>10</td>\n",
       "      <td>GPT2-based</td>\n",
       "      <td>Readability</td>\n",
       "    </tr>\n",
       "  </tbody>\n",
       "</table>\n",
       "<p>150 rows × 15 columns</p>\n",
       "</div>"
      ],
      "text/plain": [
       "     Rater1  Rater2  Rater3  Rater4  Rater5  Rater6  Rater7  Rater8  Rater9  \\\n",
       "0         1       2       2       1       2       2       0       2       2   \n",
       "1         4       3       4       4       4       3       4       4       4   \n",
       "2         4       4       4       2       4       2       3       4       4   \n",
       "3         1       4       4       4       4       2       4       4       4   \n",
       "4         4       4       4       3       4       3       2       4       4   \n",
       "..      ...     ...     ...     ...     ...     ...     ...     ...     ...   \n",
       "145       1       1       1       1       0       1       0       1       0   \n",
       "146       0       2       1       4       0       3       3       2       1   \n",
       "147       0       3       1       3       0       3       4       2       1   \n",
       "148       0       3       2       4       0       3       3       3       0   \n",
       "149       0       2       3       2       0       3       2       0       2   \n",
       "\n",
       "     Rater10  Rater11  Rater12  Question     Creator         Type  \n",
       "0          2        1        1         1  Human-made  Solvability  \n",
       "1          4        4        3         1  Human-made  Readability  \n",
       "2          4        2        3         1  Human-made  Readability  \n",
       "3          4        4        4         1  Human-made  Readability  \n",
       "4          4        4        4         1  Human-made  Readability  \n",
       "..       ...      ...      ...       ...         ...          ...  \n",
       "145        1        0        0        10  GPT2-based  Solvability  \n",
       "146        2        2        1        10  GPT2-based  Readability  \n",
       "147        1        2        0        10  GPT2-based  Readability  \n",
       "148        1        0        0        10  GPT2-based  Readability  \n",
       "149        1        0        0        10  GPT2-based  Readability  \n",
       "\n",
       "[150 rows x 15 columns]"
      ]
     },
     "execution_count": 4,
     "metadata": {},
     "output_type": "execute_result"
    }
   ],
   "source": [
    "data"
   ]
  },
  {
   "cell_type": "code",
   "execution_count": 5,
   "metadata": {},
   "outputs": [],
   "source": [
    "solvability_data = data[data.Type == 'Solvability']\n",
    "readability_data = data[data.Type == 'Readability']"
   ]
  },
  {
   "cell_type": "markdown",
   "metadata": {},
   "source": [
    "### Solvability data"
   ]
  },
  {
   "cell_type": "code",
   "execution_count": 6,
   "metadata": {},
   "outputs": [],
   "source": [
    "human_s = solvability_data[solvability_data.Creator == 'Human-made'].iloc[:,:-3].to_numpy(dtype=float)\n",
    "pcmg_s = solvability_data[solvability_data.Creator == 'PCMG'].iloc[:,:-3].to_numpy(dtype=float)\n",
    "gpt2_s = solvability_data[solvability_data.Creator == 'GPT2-based'].iloc[:,:-3].to_numpy(dtype=float)"
   ]
  },
  {
   "cell_type": "markdown",
   "metadata": {},
   "source": [
    "### Readability data"
   ]
  },
  {
   "cell_type": "code",
   "execution_count": 7,
   "metadata": {},
   "outputs": [],
   "source": [
    "# all the evaluation scores grouped by creator\n",
    "human_r = readability_data[readability_data.Creator == 'Human-made'].iloc[:,:-3].to_numpy(dtype=float)\n",
    "pcmg_r = readability_data[readability_data.Creator == 'PCMG'].iloc[:,:-3].to_numpy(dtype=float)\n",
    "gpt2_r = readability_data[readability_data.Creator == 'GPT2-based'].iloc[:,:-3].to_numpy(dtype=float)"
   ]
  },
  {
   "cell_type": "markdown",
   "metadata": {},
   "source": [
    "# Distribution Visualization"
   ]
  },
  {
   "cell_type": "markdown",
   "metadata": {},
   "source": [
    "## Solvability"
   ]
  },
  {
   "cell_type": "code",
   "execution_count": 8,
   "metadata": {},
   "outputs": [
    {
     "name": "stderr",
     "output_type": "stream",
     "text": [
      "/tmp/ipykernel_2250329/3409984996.py:1: SettingWithCopyWarning: \n",
      "A value is trying to be set on a copy of a slice from a DataFrame.\n",
      "Try using .loc[row_indexer,col_indexer] = value instead\n",
      "\n",
      "See the caveats in the documentation: https://pandas.pydata.org/pandas-docs/stable/user_guide/indexing.html#returning-a-view-versus-a-copy\n",
      "  solvability_data['ScoreSum'] = solvability_data.sum(axis=1, numeric_only=True)\n"
     ]
    }
   ],
   "source": [
    "solvability_data['ScoreSum'] = solvability_data.sum(axis=1, numeric_only=True)"
   ]
  },
  {
   "cell_type": "code",
   "execution_count": 9,
   "metadata": {},
   "outputs": [
    {
     "data": {
      "text/html": [
       "<div>\n",
       "<style scoped>\n",
       "    .dataframe tbody tr th:only-of-type {\n",
       "        vertical-align: middle;\n",
       "    }\n",
       "\n",
       "    .dataframe tbody tr th {\n",
       "        vertical-align: top;\n",
       "    }\n",
       "\n",
       "    .dataframe thead th {\n",
       "        text-align: right;\n",
       "    }\n",
       "</style>\n",
       "<table border=\"1\" class=\"dataframe\">\n",
       "  <thead>\n",
       "    <tr style=\"text-align: right;\">\n",
       "      <th></th>\n",
       "      <th>Rater1</th>\n",
       "      <th>Rater2</th>\n",
       "      <th>Rater3</th>\n",
       "      <th>Rater4</th>\n",
       "      <th>Rater5</th>\n",
       "      <th>Rater6</th>\n",
       "      <th>Rater7</th>\n",
       "      <th>Rater8</th>\n",
       "      <th>Rater9</th>\n",
       "      <th>Rater10</th>\n",
       "      <th>Rater11</th>\n",
       "      <th>Rater12</th>\n",
       "      <th>Question</th>\n",
       "      <th>Creator</th>\n",
       "      <th>Type</th>\n",
       "      <th>ScoreSum</th>\n",
       "    </tr>\n",
       "  </thead>\n",
       "  <tbody>\n",
       "    <tr>\n",
       "      <th>0</th>\n",
       "      <td>1</td>\n",
       "      <td>2</td>\n",
       "      <td>2</td>\n",
       "      <td>1</td>\n",
       "      <td>2</td>\n",
       "      <td>2</td>\n",
       "      <td>0</td>\n",
       "      <td>2</td>\n",
       "      <td>2</td>\n",
       "      <td>2</td>\n",
       "      <td>1</td>\n",
       "      <td>1</td>\n",
       "      <td>1</td>\n",
       "      <td>Human-made</td>\n",
       "      <td>Solvability</td>\n",
       "      <td>19</td>\n",
       "    </tr>\n",
       "    <tr>\n",
       "      <th>5</th>\n",
       "      <td>1</td>\n",
       "      <td>1</td>\n",
       "      <td>1</td>\n",
       "      <td>1</td>\n",
       "      <td>2</td>\n",
       "      <td>1</td>\n",
       "      <td>0</td>\n",
       "      <td>2</td>\n",
       "      <td>2</td>\n",
       "      <td>2</td>\n",
       "      <td>2</td>\n",
       "      <td>2</td>\n",
       "      <td>1</td>\n",
       "      <td>PCMG</td>\n",
       "      <td>Solvability</td>\n",
       "      <td>18</td>\n",
       "    </tr>\n",
       "    <tr>\n",
       "      <th>10</th>\n",
       "      <td>1</td>\n",
       "      <td>0</td>\n",
       "      <td>1</td>\n",
       "      <td>1</td>\n",
       "      <td>0</td>\n",
       "      <td>2</td>\n",
       "      <td>0</td>\n",
       "      <td>0</td>\n",
       "      <td>1</td>\n",
       "      <td>0</td>\n",
       "      <td>0</td>\n",
       "      <td>0</td>\n",
       "      <td>1</td>\n",
       "      <td>GPT2-based</td>\n",
       "      <td>Solvability</td>\n",
       "      <td>7</td>\n",
       "    </tr>\n",
       "    <tr>\n",
       "      <th>15</th>\n",
       "      <td>2</td>\n",
       "      <td>2</td>\n",
       "      <td>2</td>\n",
       "      <td>2</td>\n",
       "      <td>2</td>\n",
       "      <td>2</td>\n",
       "      <td>0</td>\n",
       "      <td>2</td>\n",
       "      <td>2</td>\n",
       "      <td>2</td>\n",
       "      <td>2</td>\n",
       "      <td>2</td>\n",
       "      <td>2</td>\n",
       "      <td>Human-made</td>\n",
       "      <td>Solvability</td>\n",
       "      <td>24</td>\n",
       "    </tr>\n",
       "    <tr>\n",
       "      <th>20</th>\n",
       "      <td>2</td>\n",
       "      <td>0</td>\n",
       "      <td>2</td>\n",
       "      <td>2</td>\n",
       "      <td>2</td>\n",
       "      <td>1</td>\n",
       "      <td>0</td>\n",
       "      <td>0</td>\n",
       "      <td>2</td>\n",
       "      <td>0</td>\n",
       "      <td>2</td>\n",
       "      <td>2</td>\n",
       "      <td>2</td>\n",
       "      <td>PCMG</td>\n",
       "      <td>Solvability</td>\n",
       "      <td>17</td>\n",
       "    </tr>\n",
       "    <tr>\n",
       "      <th>25</th>\n",
       "      <td>2</td>\n",
       "      <td>0</td>\n",
       "      <td>2</td>\n",
       "      <td>2</td>\n",
       "      <td>2</td>\n",
       "      <td>1</td>\n",
       "      <td>0</td>\n",
       "      <td>0</td>\n",
       "      <td>2</td>\n",
       "      <td>0</td>\n",
       "      <td>2</td>\n",
       "      <td>2</td>\n",
       "      <td>2</td>\n",
       "      <td>GPT2-based</td>\n",
       "      <td>Solvability</td>\n",
       "      <td>17</td>\n",
       "    </tr>\n",
       "    <tr>\n",
       "      <th>30</th>\n",
       "      <td>1</td>\n",
       "      <td>2</td>\n",
       "      <td>2</td>\n",
       "      <td>2</td>\n",
       "      <td>2</td>\n",
       "      <td>1</td>\n",
       "      <td>0</td>\n",
       "      <td>2</td>\n",
       "      <td>2</td>\n",
       "      <td>2</td>\n",
       "      <td>2</td>\n",
       "      <td>2</td>\n",
       "      <td>3</td>\n",
       "      <td>Human-made</td>\n",
       "      <td>Solvability</td>\n",
       "      <td>23</td>\n",
       "    </tr>\n",
       "    <tr>\n",
       "      <th>35</th>\n",
       "      <td>1</td>\n",
       "      <td>0</td>\n",
       "      <td>2</td>\n",
       "      <td>1</td>\n",
       "      <td>2</td>\n",
       "      <td>2</td>\n",
       "      <td>0</td>\n",
       "      <td>2</td>\n",
       "      <td>1</td>\n",
       "      <td>0</td>\n",
       "      <td>2</td>\n",
       "      <td>0</td>\n",
       "      <td>3</td>\n",
       "      <td>PCMG</td>\n",
       "      <td>Solvability</td>\n",
       "      <td>16</td>\n",
       "    </tr>\n",
       "    <tr>\n",
       "      <th>40</th>\n",
       "      <td>2</td>\n",
       "      <td>0</td>\n",
       "      <td>1</td>\n",
       "      <td>1</td>\n",
       "      <td>1</td>\n",
       "      <td>1</td>\n",
       "      <td>0</td>\n",
       "      <td>0</td>\n",
       "      <td>0</td>\n",
       "      <td>0</td>\n",
       "      <td>0</td>\n",
       "      <td>0</td>\n",
       "      <td>3</td>\n",
       "      <td>GPT2-based</td>\n",
       "      <td>Solvability</td>\n",
       "      <td>9</td>\n",
       "    </tr>\n",
       "    <tr>\n",
       "      <th>45</th>\n",
       "      <td>1</td>\n",
       "      <td>1</td>\n",
       "      <td>2</td>\n",
       "      <td>1</td>\n",
       "      <td>2</td>\n",
       "      <td>1</td>\n",
       "      <td>0</td>\n",
       "      <td>2</td>\n",
       "      <td>2</td>\n",
       "      <td>2</td>\n",
       "      <td>2</td>\n",
       "      <td>2</td>\n",
       "      <td>4</td>\n",
       "      <td>Human-made</td>\n",
       "      <td>Solvability</td>\n",
       "      <td>22</td>\n",
       "    </tr>\n",
       "    <tr>\n",
       "      <th>50</th>\n",
       "      <td>1</td>\n",
       "      <td>0</td>\n",
       "      <td>2</td>\n",
       "      <td>2</td>\n",
       "      <td>1</td>\n",
       "      <td>1</td>\n",
       "      <td>0</td>\n",
       "      <td>0</td>\n",
       "      <td>0</td>\n",
       "      <td>0</td>\n",
       "      <td>2</td>\n",
       "      <td>0</td>\n",
       "      <td>4</td>\n",
       "      <td>PCMG</td>\n",
       "      <td>Solvability</td>\n",
       "      <td>13</td>\n",
       "    </tr>\n",
       "    <tr>\n",
       "      <th>55</th>\n",
       "      <td>1</td>\n",
       "      <td>1</td>\n",
       "      <td>2</td>\n",
       "      <td>2</td>\n",
       "      <td>1</td>\n",
       "      <td>2</td>\n",
       "      <td>0</td>\n",
       "      <td>1</td>\n",
       "      <td>1</td>\n",
       "      <td>1</td>\n",
       "      <td>1</td>\n",
       "      <td>1</td>\n",
       "      <td>4</td>\n",
       "      <td>GPT2-based</td>\n",
       "      <td>Solvability</td>\n",
       "      <td>18</td>\n",
       "    </tr>\n",
       "    <tr>\n",
       "      <th>60</th>\n",
       "      <td>1</td>\n",
       "      <td>2</td>\n",
       "      <td>2</td>\n",
       "      <td>2</td>\n",
       "      <td>2</td>\n",
       "      <td>2</td>\n",
       "      <td>0</td>\n",
       "      <td>2</td>\n",
       "      <td>2</td>\n",
       "      <td>2</td>\n",
       "      <td>2</td>\n",
       "      <td>2</td>\n",
       "      <td>5</td>\n",
       "      <td>Human-made</td>\n",
       "      <td>Solvability</td>\n",
       "      <td>26</td>\n",
       "    </tr>\n",
       "    <tr>\n",
       "      <th>65</th>\n",
       "      <td>1</td>\n",
       "      <td>2</td>\n",
       "      <td>2</td>\n",
       "      <td>2</td>\n",
       "      <td>2</td>\n",
       "      <td>2</td>\n",
       "      <td>0</td>\n",
       "      <td>2</td>\n",
       "      <td>2</td>\n",
       "      <td>2</td>\n",
       "      <td>2</td>\n",
       "      <td>2</td>\n",
       "      <td>5</td>\n",
       "      <td>PCMG</td>\n",
       "      <td>Solvability</td>\n",
       "      <td>26</td>\n",
       "    </tr>\n",
       "    <tr>\n",
       "      <th>70</th>\n",
       "      <td>1</td>\n",
       "      <td>2</td>\n",
       "      <td>0</td>\n",
       "      <td>2</td>\n",
       "      <td>0</td>\n",
       "      <td>1</td>\n",
       "      <td>0</td>\n",
       "      <td>2</td>\n",
       "      <td>0</td>\n",
       "      <td>0</td>\n",
       "      <td>0</td>\n",
       "      <td>0</td>\n",
       "      <td>5</td>\n",
       "      <td>GPT2-based</td>\n",
       "      <td>Solvability</td>\n",
       "      <td>13</td>\n",
       "    </tr>\n",
       "    <tr>\n",
       "      <th>75</th>\n",
       "      <td>2</td>\n",
       "      <td>2</td>\n",
       "      <td>2</td>\n",
       "      <td>2</td>\n",
       "      <td>2</td>\n",
       "      <td>1</td>\n",
       "      <td>0</td>\n",
       "      <td>2</td>\n",
       "      <td>2</td>\n",
       "      <td>2</td>\n",
       "      <td>2</td>\n",
       "      <td>2</td>\n",
       "      <td>6</td>\n",
       "      <td>Human-made</td>\n",
       "      <td>Solvability</td>\n",
       "      <td>27</td>\n",
       "    </tr>\n",
       "    <tr>\n",
       "      <th>80</th>\n",
       "      <td>2</td>\n",
       "      <td>1</td>\n",
       "      <td>1</td>\n",
       "      <td>0</td>\n",
       "      <td>0</td>\n",
       "      <td>1</td>\n",
       "      <td>0</td>\n",
       "      <td>1</td>\n",
       "      <td>0</td>\n",
       "      <td>0</td>\n",
       "      <td>0</td>\n",
       "      <td>0</td>\n",
       "      <td>6</td>\n",
       "      <td>PCMG</td>\n",
       "      <td>Solvability</td>\n",
       "      <td>12</td>\n",
       "    </tr>\n",
       "    <tr>\n",
       "      <th>85</th>\n",
       "      <td>2</td>\n",
       "      <td>0</td>\n",
       "      <td>0</td>\n",
       "      <td>1</td>\n",
       "      <td>0</td>\n",
       "      <td>1</td>\n",
       "      <td>0</td>\n",
       "      <td>0</td>\n",
       "      <td>0</td>\n",
       "      <td>0</td>\n",
       "      <td>0</td>\n",
       "      <td>0</td>\n",
       "      <td>6</td>\n",
       "      <td>GPT2-based</td>\n",
       "      <td>Solvability</td>\n",
       "      <td>10</td>\n",
       "    </tr>\n",
       "    <tr>\n",
       "      <th>90</th>\n",
       "      <td>2</td>\n",
       "      <td>2</td>\n",
       "      <td>2</td>\n",
       "      <td>2</td>\n",
       "      <td>2</td>\n",
       "      <td>1</td>\n",
       "      <td>0</td>\n",
       "      <td>2</td>\n",
       "      <td>0</td>\n",
       "      <td>2</td>\n",
       "      <td>2</td>\n",
       "      <td>2</td>\n",
       "      <td>7</td>\n",
       "      <td>Human-made</td>\n",
       "      <td>Solvability</td>\n",
       "      <td>26</td>\n",
       "    </tr>\n",
       "    <tr>\n",
       "      <th>95</th>\n",
       "      <td>1</td>\n",
       "      <td>1</td>\n",
       "      <td>2</td>\n",
       "      <td>1</td>\n",
       "      <td>2</td>\n",
       "      <td>1</td>\n",
       "      <td>0</td>\n",
       "      <td>2</td>\n",
       "      <td>2</td>\n",
       "      <td>2</td>\n",
       "      <td>2</td>\n",
       "      <td>2</td>\n",
       "      <td>7</td>\n",
       "      <td>PCMG</td>\n",
       "      <td>Solvability</td>\n",
       "      <td>25</td>\n",
       "    </tr>\n",
       "    <tr>\n",
       "      <th>100</th>\n",
       "      <td>1</td>\n",
       "      <td>1</td>\n",
       "      <td>1</td>\n",
       "      <td>1</td>\n",
       "      <td>1</td>\n",
       "      <td>1</td>\n",
       "      <td>0</td>\n",
       "      <td>1</td>\n",
       "      <td>1</td>\n",
       "      <td>1</td>\n",
       "      <td>1</td>\n",
       "      <td>0</td>\n",
       "      <td>7</td>\n",
       "      <td>GPT2-based</td>\n",
       "      <td>Solvability</td>\n",
       "      <td>17</td>\n",
       "    </tr>\n",
       "    <tr>\n",
       "      <th>105</th>\n",
       "      <td>1</td>\n",
       "      <td>2</td>\n",
       "      <td>2</td>\n",
       "      <td>2</td>\n",
       "      <td>2</td>\n",
       "      <td>2</td>\n",
       "      <td>0</td>\n",
       "      <td>2</td>\n",
       "      <td>2</td>\n",
       "      <td>2</td>\n",
       "      <td>2</td>\n",
       "      <td>2</td>\n",
       "      <td>8</td>\n",
       "      <td>Human-made</td>\n",
       "      <td>Solvability</td>\n",
       "      <td>29</td>\n",
       "    </tr>\n",
       "    <tr>\n",
       "      <th>110</th>\n",
       "      <td>2</td>\n",
       "      <td>0</td>\n",
       "      <td>2</td>\n",
       "      <td>2</td>\n",
       "      <td>0</td>\n",
       "      <td>2</td>\n",
       "      <td>0</td>\n",
       "      <td>2</td>\n",
       "      <td>0</td>\n",
       "      <td>2</td>\n",
       "      <td>2</td>\n",
       "      <td>0</td>\n",
       "      <td>8</td>\n",
       "      <td>PCMG</td>\n",
       "      <td>Solvability</td>\n",
       "      <td>22</td>\n",
       "    </tr>\n",
       "    <tr>\n",
       "      <th>115</th>\n",
       "      <td>1</td>\n",
       "      <td>0</td>\n",
       "      <td>1</td>\n",
       "      <td>1</td>\n",
       "      <td>1</td>\n",
       "      <td>1</td>\n",
       "      <td>0</td>\n",
       "      <td>1</td>\n",
       "      <td>1</td>\n",
       "      <td>1</td>\n",
       "      <td>1</td>\n",
       "      <td>1</td>\n",
       "      <td>8</td>\n",
       "      <td>GPT2-based</td>\n",
       "      <td>Solvability</td>\n",
       "      <td>18</td>\n",
       "    </tr>\n",
       "    <tr>\n",
       "      <th>120</th>\n",
       "      <td>1</td>\n",
       "      <td>2</td>\n",
       "      <td>2</td>\n",
       "      <td>2</td>\n",
       "      <td>2</td>\n",
       "      <td>2</td>\n",
       "      <td>0</td>\n",
       "      <td>2</td>\n",
       "      <td>2</td>\n",
       "      <td>2</td>\n",
       "      <td>2</td>\n",
       "      <td>2</td>\n",
       "      <td>9</td>\n",
       "      <td>Human-made</td>\n",
       "      <td>Solvability</td>\n",
       "      <td>30</td>\n",
       "    </tr>\n",
       "    <tr>\n",
       "      <th>125</th>\n",
       "      <td>2</td>\n",
       "      <td>2</td>\n",
       "      <td>1</td>\n",
       "      <td>2</td>\n",
       "      <td>0</td>\n",
       "      <td>1</td>\n",
       "      <td>0</td>\n",
       "      <td>2</td>\n",
       "      <td>0</td>\n",
       "      <td>2</td>\n",
       "      <td>2</td>\n",
       "      <td>2</td>\n",
       "      <td>9</td>\n",
       "      <td>PCMG</td>\n",
       "      <td>Solvability</td>\n",
       "      <td>25</td>\n",
       "    </tr>\n",
       "    <tr>\n",
       "      <th>130</th>\n",
       "      <td>1</td>\n",
       "      <td>1</td>\n",
       "      <td>0</td>\n",
       "      <td>1</td>\n",
       "      <td>1</td>\n",
       "      <td>1</td>\n",
       "      <td>0</td>\n",
       "      <td>1</td>\n",
       "      <td>1</td>\n",
       "      <td>1</td>\n",
       "      <td>1</td>\n",
       "      <td>1</td>\n",
       "      <td>9</td>\n",
       "      <td>GPT2-based</td>\n",
       "      <td>Solvability</td>\n",
       "      <td>19</td>\n",
       "    </tr>\n",
       "    <tr>\n",
       "      <th>135</th>\n",
       "      <td>1</td>\n",
       "      <td>2</td>\n",
       "      <td>2</td>\n",
       "      <td>2</td>\n",
       "      <td>2</td>\n",
       "      <td>1</td>\n",
       "      <td>0</td>\n",
       "      <td>2</td>\n",
       "      <td>2</td>\n",
       "      <td>2</td>\n",
       "      <td>2</td>\n",
       "      <td>2</td>\n",
       "      <td>10</td>\n",
       "      <td>Human-made</td>\n",
       "      <td>Solvability</td>\n",
       "      <td>30</td>\n",
       "    </tr>\n",
       "    <tr>\n",
       "      <th>140</th>\n",
       "      <td>1</td>\n",
       "      <td>2</td>\n",
       "      <td>2</td>\n",
       "      <td>1</td>\n",
       "      <td>0</td>\n",
       "      <td>1</td>\n",
       "      <td>0</td>\n",
       "      <td>2</td>\n",
       "      <td>2</td>\n",
       "      <td>2</td>\n",
       "      <td>2</td>\n",
       "      <td>2</td>\n",
       "      <td>10</td>\n",
       "      <td>PCMG</td>\n",
       "      <td>Solvability</td>\n",
       "      <td>27</td>\n",
       "    </tr>\n",
       "    <tr>\n",
       "      <th>145</th>\n",
       "      <td>1</td>\n",
       "      <td>1</td>\n",
       "      <td>1</td>\n",
       "      <td>1</td>\n",
       "      <td>0</td>\n",
       "      <td>1</td>\n",
       "      <td>0</td>\n",
       "      <td>1</td>\n",
       "      <td>0</td>\n",
       "      <td>1</td>\n",
       "      <td>0</td>\n",
       "      <td>0</td>\n",
       "      <td>10</td>\n",
       "      <td>GPT2-based</td>\n",
       "      <td>Solvability</td>\n",
       "      <td>17</td>\n",
       "    </tr>\n",
       "  </tbody>\n",
       "</table>\n",
       "</div>"
      ],
      "text/plain": [
       "     Rater1  Rater2  Rater3  Rater4  Rater5  Rater6  Rater7  Rater8  Rater9  \\\n",
       "0         1       2       2       1       2       2       0       2       2   \n",
       "5         1       1       1       1       2       1       0       2       2   \n",
       "10        1       0       1       1       0       2       0       0       1   \n",
       "15        2       2       2       2       2       2       0       2       2   \n",
       "20        2       0       2       2       2       1       0       0       2   \n",
       "25        2       0       2       2       2       1       0       0       2   \n",
       "30        1       2       2       2       2       1       0       2       2   \n",
       "35        1       0       2       1       2       2       0       2       1   \n",
       "40        2       0       1       1       1       1       0       0       0   \n",
       "45        1       1       2       1       2       1       0       2       2   \n",
       "50        1       0       2       2       1       1       0       0       0   \n",
       "55        1       1       2       2       1       2       0       1       1   \n",
       "60        1       2       2       2       2       2       0       2       2   \n",
       "65        1       2       2       2       2       2       0       2       2   \n",
       "70        1       2       0       2       0       1       0       2       0   \n",
       "75        2       2       2       2       2       1       0       2       2   \n",
       "80        2       1       1       0       0       1       0       1       0   \n",
       "85        2       0       0       1       0       1       0       0       0   \n",
       "90        2       2       2       2       2       1       0       2       0   \n",
       "95        1       1       2       1       2       1       0       2       2   \n",
       "100       1       1       1       1       1       1       0       1       1   \n",
       "105       1       2       2       2       2       2       0       2       2   \n",
       "110       2       0       2       2       0       2       0       2       0   \n",
       "115       1       0       1       1       1       1       0       1       1   \n",
       "120       1       2       2       2       2       2       0       2       2   \n",
       "125       2       2       1       2       0       1       0       2       0   \n",
       "130       1       1       0       1       1       1       0       1       1   \n",
       "135       1       2       2       2       2       1       0       2       2   \n",
       "140       1       2       2       1       0       1       0       2       2   \n",
       "145       1       1       1       1       0       1       0       1       0   \n",
       "\n",
       "     Rater10  Rater11  Rater12  Question     Creator         Type  ScoreSum  \n",
       "0          2        1        1         1  Human-made  Solvability        19  \n",
       "5          2        2        2         1        PCMG  Solvability        18  \n",
       "10         0        0        0         1  GPT2-based  Solvability         7  \n",
       "15         2        2        2         2  Human-made  Solvability        24  \n",
       "20         0        2        2         2        PCMG  Solvability        17  \n",
       "25         0        2        2         2  GPT2-based  Solvability        17  \n",
       "30         2        2        2         3  Human-made  Solvability        23  \n",
       "35         0        2        0         3        PCMG  Solvability        16  \n",
       "40         0        0        0         3  GPT2-based  Solvability         9  \n",
       "45         2        2        2         4  Human-made  Solvability        22  \n",
       "50         0        2        0         4        PCMG  Solvability        13  \n",
       "55         1        1        1         4  GPT2-based  Solvability        18  \n",
       "60         2        2        2         5  Human-made  Solvability        26  \n",
       "65         2        2        2         5        PCMG  Solvability        26  \n",
       "70         0        0        0         5  GPT2-based  Solvability        13  \n",
       "75         2        2        2         6  Human-made  Solvability        27  \n",
       "80         0        0        0         6        PCMG  Solvability        12  \n",
       "85         0        0        0         6  GPT2-based  Solvability        10  \n",
       "90         2        2        2         7  Human-made  Solvability        26  \n",
       "95         2        2        2         7        PCMG  Solvability        25  \n",
       "100        1        1        0         7  GPT2-based  Solvability        17  \n",
       "105        2        2        2         8  Human-made  Solvability        29  \n",
       "110        2        2        0         8        PCMG  Solvability        22  \n",
       "115        1        1        1         8  GPT2-based  Solvability        18  \n",
       "120        2        2        2         9  Human-made  Solvability        30  \n",
       "125        2        2        2         9        PCMG  Solvability        25  \n",
       "130        1        1        1         9  GPT2-based  Solvability        19  \n",
       "135        2        2        2        10  Human-made  Solvability        30  \n",
       "140        2        2        2        10        PCMG  Solvability        27  \n",
       "145        1        0        0        10  GPT2-based  Solvability        17  "
      ]
     },
     "execution_count": 9,
     "metadata": {},
     "output_type": "execute_result"
    }
   ],
   "source": [
    "solvability_data"
   ]
  },
  {
   "cell_type": "code",
   "execution_count": 10,
   "metadata": {},
   "outputs": [
    {
     "data": {
      "text/plain": [
       "<AxesSubplot:xlabel='Question', ylabel='ScoreSum'>"
      ]
     },
     "execution_count": 10,
     "metadata": {},
     "output_type": "execute_result"
    },
    {
     "data": {
      "image/png": "[encoded data removed]",
      "text/plain": [
       "<Figure size 640x480 with 1 Axes>"
      ]
     },
     "metadata": {},
     "output_type": "display_data"
    }
   ],
   "source": [
    "sns.barplot(data=solvability_data, x=\"Question\", y=\"ScoreSum\", hue=\"Creator\")"
   ]
  },
  {
   "cell_type": "markdown",
   "metadata": {},
   "source": [
    "## Readability"
   ]
  },
  {
   "cell_type": "code",
   "execution_count": 11,
   "metadata": {},
   "outputs": [
    {
     "name": "stderr",
     "output_type": "stream",
     "text": [
      "/tmp/ipykernel_2250329/144105668.py:2: SettingWithCopyWarning: \n",
      "A value is trying to be set on a copy of a slice from a DataFrame.\n",
      "Try using .loc[row_indexer,col_indexer] = value instead\n",
      "\n",
      "See the caveats in the documentation: https://pandas.pydata.org/pandas-docs/stable/user_guide/indexing.html#returning-a-view-versus-a-copy\n",
      "  readability_data['ScoreSum'] = readability_data_sum\n"
     ]
    }
   ],
   "source": [
    "readability_data_sum = readability_data.sum(axis=1, numeric_only=True)\n",
    "readability_data['ScoreSum'] = readability_data_sum"
   ]
  },
  {
   "cell_type": "markdown",
   "metadata": {},
   "source": [
    "# Statistics"
   ]
  },
  {
   "cell_type": "markdown",
   "metadata": {},
   "source": [
    "## Mean Score of Each MWP --> 1x10 Vector"
   ]
  },
  {
   "cell_type": "code",
   "execution_count": 12,
   "metadata": {},
   "outputs": [],
   "source": [
    "# Solvability\n",
    "human_s_mean_q = human_s.mean(axis=1)\n",
    "pcmg_s_mean_q = pcmg_s.mean(axis=1)\n",
    "gpt2_s_mean_q = gpt2_s.mean(axis=1)"
   ]
  },
  {
   "cell_type": "code",
   "execution_count": 13,
   "metadata": {},
   "outputs": [],
   "source": [
    "\n",
    "def grouped_avg_of_question(arr: np.ndarray, n: int=4) -> np.ndarray:\n",
    "    result = np.cumsum(arr, 0)[n-1::n]/float(n)\n",
    "    result[1:] = result[1:] - result[:-1]\n",
    "    return result"
   ]
  },
  {
   "cell_type": "code",
   "execution_count": 14,
   "metadata": {},
   "outputs": [],
   "source": [
    "# Readability\n",
    "human_r_mean_q = grouped_avg_of_question(human_r).mean(axis=1)\n",
    "pcmg_r_mean_q = grouped_avg_of_question(pcmg_r).mean(axis=1)\n",
    "gpt2_r_mean_q = grouped_avg_of_question(gpt2_r).mean(axis=1)"
   ]
  },
  {
   "cell_type": "code",
   "execution_count": 15,
   "metadata": {},
   "outputs": [
    {
     "name": "stdout",
     "output_type": "stream",
     "text": [
      "Human-made Mean\n",
      "Question 1: 3.5833333333333335\n",
      "Question 2: 3.3958333333333335\n",
      "Question 3: 3.3541666666666665\n",
      "Question 4: 2.7083333333333335\n",
      "Question 5: 3.375\n",
      "Question 6: 3.4791666666666665\n",
      "Question 7: 3.1458333333333335\n",
      "Question 8: 2.875\n",
      "Question 9: 3.4375\n",
      "Question 10: 3.5208333333333335\n"
     ]
    }
   ],
   "source": [
    "print(\"Human-made Mean\")\n",
    "print_vector_results(human_r_mean_q)"
   ]
  },
  {
   "cell_type": "code",
   "execution_count": 16,
   "metadata": {},
   "outputs": [
    {
     "name": "stdout",
     "output_type": "stream",
     "text": [
      "PCMG Mean\n",
      "Question 1: 3.25\n",
      "Question 2: 2.75\n",
      "Question 3: 2.375\n",
      "Question 4: 2.1041666666666665\n",
      "Question 5: 3.3958333333333335\n",
      "Question 6: 1.1458333333333333\n",
      "Question 7: 3.4791666666666665\n",
      "Question 8: 2.125\n",
      "Question 9: 1.6875\n",
      "Question 10: 3.1458333333333335\n"
     ]
    }
   ],
   "source": [
    "print(\"PCMG Mean\")\n",
    "print_vector_results(pcmg_r_mean_q)"
   ]
  },
  {
   "cell_type": "code",
   "execution_count": 17,
   "metadata": {},
   "outputs": [
    {
     "name": "stdout",
     "output_type": "stream",
     "text": [
      "GPT2-based Mean\n",
      "Question 1: 2.3333333333333335\n",
      "Question 2: 1.9791666666666667\n",
      "Question 3: 2.0\n",
      "Question 4: 2.125\n",
      "Question 5: 1.1458333333333333\n",
      "Question 6: 1.25\n",
      "Question 7: 2.375\n",
      "Question 8: 3.0208333333333335\n",
      "Question 9: 3.0\n",
      "Question 10: 1.5625\n"
     ]
    }
   ],
   "source": [
    "print(\"GPT2-based Mean\")\n",
    "print_vector_results(gpt2_r_mean_q)"
   ]
  },
  {
   "cell_type": "markdown",
   "metadata": {},
   "source": [
    "## Mean Score of Each Creator --> Scalar"
   ]
  },
  {
   "cell_type": "code",
   "execution_count": 18,
   "metadata": {},
   "outputs": [
    {
     "name": "stdout",
     "output_type": "stream",
     "text": [
      "풀이 가능성 Mean\n",
      "Human-made: 1.675, PCMG:1.2166666666666668, GPT2-based: 0.75\n"
     ]
    }
   ],
   "source": [
    "# Solvability\n",
    "human_s_mean = human_s_mean_q.mean(axis=0)\n",
    "pcmg_s_mean = pcmg_s_mean_q.mean(axis=0)\n",
    "gpt2_s_mean = gpt2_s_mean_q.mean(axis=0)\n",
    "print(f'풀이 가능성 Mean\\nHuman-made: {human_s_mean}, PCMG:{pcmg_s_mean}, GPT2-based: {gpt2_s_mean}')"
   ]
  },
  {
   "cell_type": "code",
   "execution_count": 19,
   "metadata": {},
   "outputs": [
    {
     "name": "stdout",
     "output_type": "stream",
     "text": [
      "독해 가능성 Mean\n",
      "Human-made: 3.2875, PCMG:2.5458333333333334, GPT2-based: 2.0791666666666666\n"
     ]
    }
   ],
   "source": [
    "# Readability\n",
    "human_r_mean = human_r_mean_q.mean(axis=0)\n",
    "pcmg_r_mean = pcmg_r_mean_q.mean(axis=0)\n",
    "gpt2_r_mean = gpt2_r_mean_q.mean(axis=0)\n",
    "print(f'독해 가능성 Mean\\nHuman-made: {human_r_mean}, PCMG:{pcmg_r_mean}, GPT2-based: {gpt2_r_mean}')"
   ]
  },
  {
   "cell_type": "markdown",
   "metadata": {},
   "source": [
    "## Std. Dev. of Each MWP --> 1x10 Vector"
   ]
  },
  {
   "cell_type": "code",
   "execution_count": 20,
   "metadata": {},
   "outputs": [],
   "source": [
    "# Solvability\n",
    "human_s_std_q = human_s.std(axis=1)\n",
    "pcmg_s_std_q = pcmg_s.std(axis=1)\n",
    "gpt2_s_std_q = gpt2_s.std(axis=1)"
   ]
  },
  {
   "cell_type": "code",
   "execution_count": 21,
   "metadata": {},
   "outputs": [
    {
     "name": "stdout",
     "output_type": "stream",
     "text": [
      "Human-made Std. Dev.\n",
      "Question 1: 0.6454972243679028\n",
      "Question 2: 0.5527707983925666\n",
      "Question 3: 0.6236095644623235\n",
      "Question 4: 0.6454972243679028\n",
      "Question 5: 0.5951190357119042\n",
      "Question 6: 0.5951190357119042\n",
      "Question 7: 0.7592027982620249\n",
      "Question 8: 0.5951190357119042\n",
      "Question 9: 0.5951190357119042\n",
      "Question 10: 0.6236095644623235\n"
     ]
    }
   ],
   "source": [
    "print(\"Human-made Std. Dev.\")\n",
    "print_vector_results(human_s_std_q)"
   ]
  },
  {
   "cell_type": "code",
   "execution_count": 22,
   "metadata": {},
   "outputs": [
    {
     "name": "stdout",
     "output_type": "stream",
     "text": [
      "PCMG Std. Dev.\n",
      "Question 1: 0.6400954789890506\n",
      "Question 2: 0.924211375534118\n",
      "Question 3: 0.8620067027323833\n",
      "Question 4: 0.82915619758885\n",
      "Question 5: 0.5951190357119042\n",
      "Question 6: 0.6454972243679028\n",
      "Question 7: 0.6454972243679028\n",
      "Question 8: 0.9860132971832694\n",
      "Question 9: 0.8498365855987975\n",
      "Question 10: 0.759202798262025\n"
     ]
    }
   ],
   "source": [
    "print(\"PCMG Std. Dev.\")\n",
    "print_vector_results(pcmg_s_std_q)"
   ]
  },
  {
   "cell_type": "code",
   "execution_count": 23,
   "metadata": {},
   "outputs": [
    {
     "name": "stdout",
     "output_type": "stream",
     "text": [
      "GPT2-based Std. Dev.\n",
      "Question 1: 0.6454972243679028\n",
      "Question 2: 0.924211375534118\n",
      "Question 3: 0.6454972243679028\n",
      "Question 4: 0.5527707983925666\n",
      "Question 5: 0.8498365855987976\n",
      "Question 6: 0.6236095644623235\n",
      "Question 7: 0.372677996249965\n",
      "Question 8: 0.3726779962499649\n",
      "Question 9: 0.3726779962499649\n",
      "Question 10: 0.4930066485916347\n"
     ]
    }
   ],
   "source": [
    "print(\"GPT2-based Std. Dev.\")\n",
    "print_vector_results(gpt2_s_std_q)"
   ]
  },
  {
   "cell_type": "code",
   "execution_count": 24,
   "metadata": {},
   "outputs": [],
   "source": [
    "# Readability\n",
    "human_r_std_q = grouped_avg_of_question(human_r).std(axis=1)\n",
    "pcmg_r_std_q = grouped_avg_of_question(pcmg_r).std(axis=1)\n",
    "gpt2_r_std_q = grouped_avg_of_question(gpt2_r).std(axis=1)"
   ]
  },
  {
   "cell_type": "markdown",
   "metadata": {},
   "source": [
    "## Std. Dev. of Each Creator --> Scalar"
   ]
  },
  {
   "cell_type": "code",
   "execution_count": 25,
   "metadata": {},
   "outputs": [
    {
     "name": "stdout",
     "output_type": "stream",
     "text": [
      "풀이 가능성 Std. Dev.\n",
      "Human-made: 0.05254111251066237, PCMG:0.1293152123279145, GPT2-based: 0.18405327823045128\n"
     ]
    }
   ],
   "source": [
    "# Solvability\n",
    "human_s_std = human_s_std_q.std(axis=0)\n",
    "pcmg_s_std = pcmg_s_std_q.std(axis=0)\n",
    "gpt2_s_std = gpt2_s_std_q.std(axis=0)\n",
    "print(f'풀이 가능성 Std. Dev.\\nHuman-made: {human_s_std}, PCMG:{pcmg_s_std}, GPT2-based: {gpt2_s_std}')"
   ]
  },
  {
   "cell_type": "code",
   "execution_count": 26,
   "metadata": {},
   "outputs": [
    {
     "name": "stdout",
     "output_type": "stream",
     "text": [
      "독해 가능성 Std. Dev.\n",
      "Human-made: 0.22105488560882916, PCMG:0.15493416575351088, GPT2-based: 0.12274460527140761\n"
     ]
    }
   ],
   "source": [
    "# Solvability\n",
    "human_r_std = human_r_std_q.std(axis=0)\n",
    "pcmg_r_std = pcmg_r_std_q.std(axis=0)\n",
    "gpt2_r_std = gpt2_r_std_q.std(axis=0)\n",
    "print(f'독해 가능성 Std. Dev.\\nHuman-made: {human_r_std}, PCMG:{pcmg_r_std}, GPT2-based: {gpt2_r_std}')"
   ]
  },
  {
   "cell_type": "markdown",
   "metadata": {},
   "source": [
    "# Hypotheses"
   ]
  },
  {
   "cell_type": "code",
   "execution_count": 27,
   "metadata": {},
   "outputs": [],
   "source": [
    "hypo_1 = np.concatenate((pcmg_s_mean_q.reshape(1,-1),human_s_mean_q.reshape(1,-1)),axis=0)\n",
    "hypo_2 = np.concatenate((pcmg_r_mean_q.reshape(1,-1),human_r_mean_q.reshape(1,-1)),axis=0)\n",
    "hypo_3 = np.concatenate((pcmg_s_mean_q.reshape(1,-1),gpt2_s_mean_q.reshape(1,-1)),axis=0)\n",
    "hypo_4 = np.concatenate((pcmg_r_mean_q.reshape(1,-1),gpt2_r_mean_q.reshape(1,-1)),axis=0)"
   ]
  },
  {
   "cell_type": "markdown",
   "metadata": {},
   "source": [
    "# Independence of Oridinal Data"
   ]
  },
  {
   "cell_type": "code",
   "execution_count": 28,
   "metadata": {},
   "outputs": [
    {
     "name": "stdout",
     "output_type": "stream",
     "text": [
      "Statistic: 0.04420736701020686, p-value: 0.903485150200787, Independent?: True\n"
     ]
    }
   ],
   "source": [
    "IndependenceTester(hypo_1).print_results()"
   ]
  },
  {
   "cell_type": "code",
   "execution_count": 29,
   "metadata": {},
   "outputs": [
    {
     "name": "stdout",
     "output_type": "stream",
     "text": [
      "Statistic: 0.16281598927864993, p-value: 0.6531322621304869, Independent?: True\n"
     ]
    }
   ],
   "source": [
    "IndependenceTester(hypo_2).print_results()"
   ]
  },
  {
   "cell_type": "code",
   "execution_count": 30,
   "metadata": {},
   "outputs": [
    {
     "name": "stdout",
     "output_type": "stream",
     "text": [
      "Statistic: 0.05724106894344017, p-value: 0.8751946271760626, Independent?: True\n"
     ]
    }
   ],
   "source": [
    "IndependenceTester(hypo_3).print_results()"
   ]
  },
  {
   "cell_type": "code",
   "execution_count": 31,
   "metadata": {},
   "outputs": [
    {
     "name": "stdout",
     "output_type": "stream",
     "text": [
      "Statistic: -0.15356006255860394, p-value: 0.6718969747216721, Independent?: True\n"
     ]
    }
   ],
   "source": [
    "IndependenceTester(hypo_4).print_results()"
   ]
  },
  {
   "cell_type": "markdown",
   "metadata": {},
   "source": [
    "# Hypothesis checking"
   ]
  },
  {
   "cell_type": "code",
   "execution_count": 32,
   "metadata": {},
   "outputs": [],
   "source": [
    "PAIRED = False\n",
    "NORMAL = False"
   ]
  },
  {
   "cell_type": "code",
   "execution_count": 33,
   "metadata": {},
   "outputs": [
    {
     "name": "stdout",
     "output_type": "stream",
     "text": [
      "Mann-Whitney U-test TOST\n",
      "p-value: 0.03859336102623813, reject_alternative: False\n"
     ]
    }
   ],
   "source": [
    "HypothesisTester(hypo_1, is_tost=True, is_pair=PAIRED, normality=NORMAL).print_results()"
   ]
  },
  {
   "cell_type": "code",
   "execution_count": 34,
   "metadata": {},
   "outputs": [
    {
     "name": "stdout",
     "output_type": "stream",
     "text": [
      "Mann-Whitney U-test TOST\n",
      "p-value: 0.031818181818181815, reject_alternative: False\n"
     ]
    }
   ],
   "source": [
    "HypothesisTester(hypo_2, is_tost=True, is_pair=PAIRED, normality=NORMAL).print_results()"
   ]
  },
  {
   "cell_type": "code",
   "execution_count": 35,
   "metadata": {},
   "outputs": [
    {
     "name": "stdout",
     "output_type": "stream",
     "text": [
      "Mann-Whitney U-test\n",
      "statistic: 83.0, p-value: 0.006812668117370378, reject_alternative: False\n"
     ]
    }
   ],
   "source": [
    "HypothesisTester(hypo_3, is_pair=PAIRED, normality=NORMAL).print_results()"
   ]
  },
  {
   "cell_type": "code",
   "execution_count": 36,
   "metadata": {},
   "outputs": [
    {
     "name": "stdout",
     "output_type": "stream",
     "text": [
      "Mann-Whitney U-test\n",
      "statistic: 69.5, p-value: 0.0752329756092374, reject_alternative: True\n"
     ]
    }
   ],
   "source": [
    "HypothesisTester(hypo_4, is_pair=PAIRED, normality=NORMAL).print_results()"
   ]
  },
  {
   "cell_type": "markdown",
   "metadata": {},
   "source": [
    "Alternatives"
   ]
  },
  {
   "cell_type": "code",
   "execution_count": 37,
   "metadata": {},
   "outputs": [],
   "source": [
    "hypo_4_alt = np.concatenate((gpt2_r_mean_q.reshape(1,-1),human_r_mean_q.reshape(1,-1)),axis=0)"
   ]
  },
  {
   "cell_type": "code",
   "execution_count": 38,
   "metadata": {},
   "outputs": [
    {
     "name": "stdout",
     "output_type": "stream",
     "text": [
      "Mann-Whitney U-test\n",
      "statistic: 4.0, p-value: 0.9997801806236867, reject_alternative: True\n"
     ]
    }
   ],
   "source": [
    "HypothesisTester(hypo_4_alt, is_pair=PAIRED, normality=NORMAL).print_results()"
   ]
  },
  {
   "cell_type": "code",
   "execution_count": 39,
   "metadata": {},
   "outputs": [
    {
     "name": "stdout",
     "output_type": "stream",
     "text": [
      "Mann-Whitney U-test TOST\n",
      "p-value: 0.07655947134823016, reject_alternative: True\n"
     ]
    }
   ],
   "source": [
    "HypothesisTester(hypo_4_alt, is_tost=True, is_pair=PAIRED, normality=NORMAL).print_results()"
   ]
  },
  {
   "cell_type": "code",
   "execution_count": null,
   "metadata": {},
   "outputs": [],
   "source": []
  }
 ],
 "metadata": {
  "kernelspec": {
   "display_name": "Python 3.8.10 ('eptg_venv': venv)",
   "language": "python",
   "name": "python3"
  },
  "language_info": {
   "codemirror_mode": {
    "name": "ipython",
    "version": 3
   },
   "file_extension": ".py",
   "mimetype": "text/x-python",
   "name": "python",
   "nbconvert_exporter": "python",
   "pygments_lexer": "ipython3",
   "version": "3.8.10"
  },
  "orig_nbformat": 4,
  "vscode": {
   "interpreter": {
    "hash": "12d3484dd52b1489638fb36511337dccd465c620940d2bd74ae27fd85e19efab"
   }
  }
 },
 "nbformat": 4,
 "nbformat_minor": 2
}
