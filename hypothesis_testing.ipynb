{
 "cells": [
  {
   "cell_type": "code",
   "execution_count": 1,
   "metadata": {},
   "outputs": [],
   "source": [
    "import scipy.stats as stats\n",
    "import matplotlib.pyplot as plt\n",
    "import seaborn as sns\n",
    "import pandas as pd\n",
    "import numpy as np\n",
    "from typing import List\n",
    "\n",
    "from hypothesis_testing_pipeline import *\n"
   ]
  },
  {
   "cell_type": "code",
   "execution_count": 2,
   "metadata": {},
   "outputs": [],
   "source": [
    "def print_vector_results(arr: np.ndarray) -> None:\n",
    "    \n",
    "    for i in range(arr.shape[0]):\n",
    "        print(f\"Question {i+1}: {arr[i]}\")"
   ]
  },
  {
   "cell_type": "markdown",
   "metadata": {},
   "source": [
    "# Preprocess"
   ]
  },
  {
   "cell_type": "code",
   "execution_count": 3,
   "metadata": {},
   "outputs": [],
   "source": [
    "data = pd.read_csv('survey_data.csv', header=None)\n",
    "\n",
    "question_list = []\n",
    "q_num = 0\n",
    "for i in range(len(data)):\n",
    "    if i % 15 == 0:\n",
    "        q_num += 1\n",
    "    question_list.append(f'Q{q_num}')\n",
    "data['Question'] = question_list\n",
    "\n",
    "col_list = [f'Rater{i}' for i in range(1,13)] + ['Question']\n",
    "data.columns = col_list\n",
    "\n",
    "# The creator of the question: Human-made, PCMG, GPT2-based\n",
    "creators = ['Human-made']*5 + ['PCMG']*5 + ['GPT2-based']*5\n",
    "creator_list = creators*(len(data)//15)\n",
    "# The type of data: Solvability or Readability\n",
    "types = ['Solvability'] + ['Readability']*4\n",
    "type_list = types*(len(data)//5)\n",
    "data['Creator'] = creator_list\n",
    "data['Type'] = type_list"
   ]
  },
  {
   "cell_type": "code",
   "execution_count": 4,
   "metadata": {},
   "outputs": [],
   "source": [
    "solvability_data = data[data.Type == 'Solvability']\n",
    "readability_data = data[data.Type == 'Readability']"
   ]
  },
  {
   "cell_type": "markdown",
   "metadata": {},
   "source": [
    "### Solvability Vectors"
   ]
  },
  {
   "cell_type": "code",
   "execution_count": 5,
   "metadata": {},
   "outputs": [],
   "source": [
    "human_s = solvability_data[solvability_data.Creator == 'Human-made'].iloc[:,:-3].to_numpy(dtype=float)\n",
    "pcmg_s = solvability_data[solvability_data.Creator == 'PCMG'].iloc[:,:-3].to_numpy(dtype=float)\n",
    "gpt2_s = solvability_data[solvability_data.Creator == 'GPT2-based'].iloc[:,:-3].to_numpy(dtype=float)"
   ]
  },
  {
   "cell_type": "markdown",
   "metadata": {},
   "source": [
    "### Readability Vectors"
   ]
  },
  {
   "cell_type": "code",
   "execution_count": 6,
   "metadata": {},
   "outputs": [],
   "source": [
    "# all the evaluation scores grouped by creator\n",
    "human_r = readability_data[readability_data.Creator == 'Human-made'].iloc[:,:-3].to_numpy(dtype=float)\n",
    "pcmg_r = readability_data[readability_data.Creator == 'PCMG'].iloc[:,:-3].to_numpy(dtype=float)\n",
    "gpt2_r = readability_data[readability_data.Creator == 'GPT2-based'].iloc[:,:-3].to_numpy(dtype=float)"
   ]
  },
  {
   "cell_type": "markdown",
   "metadata": {},
   "source": [
    "# Distribution Visualization"
   ]
  },
  {
   "cell_type": "markdown",
   "metadata": {},
   "source": [
    "## Solvability DataFrame for Visualization"
   ]
  },
  {
   "cell_type": "code",
   "execution_count": 7,
   "metadata": {},
   "outputs": [],
   "source": [
    "solvability_data_vis = solvability_data.copy()"
   ]
  },
  {
   "cell_type": "code",
   "execution_count": 8,
   "metadata": {},
   "outputs": [],
   "source": [
    "solvability_data_vis['ScoreSum'] = solvability_data.sum(axis=1, numeric_only=True)\n",
    "solvability_data_vis['ScoreMean'] = solvability_data.mean(axis=1, numeric_only=True)\n",
    "solvability_data_vis['ScoreMedian'] = solvability_data.median(axis=1, numeric_only=True)"
   ]
  },
  {
   "cell_type": "code",
   "execution_count": 77,
   "metadata": {},
   "outputs": [
    {
     "data": {
      "text/html": [
       "<div>\n",
       "<style scoped>\n",
       "    .dataframe tbody tr th:only-of-type {\n",
       "        vertical-align: middle;\n",
       "    }\n",
       "\n",
       "    .dataframe tbody tr th {\n",
       "        vertical-align: top;\n",
       "    }\n",
       "\n",
       "    .dataframe thead th {\n",
       "        text-align: right;\n",
       "    }\n",
       "</style>\n",
       "<table border=\"1\" class=\"dataframe\">\n",
       "  <thead>\n",
       "    <tr style=\"text-align: right;\">\n",
       "      <th></th>\n",
       "      <th>Rater1</th>\n",
       "      <th>Rater2</th>\n",
       "      <th>Rater3</th>\n",
       "      <th>Rater4</th>\n",
       "      <th>Rater5</th>\n",
       "      <th>Rater6</th>\n",
       "      <th>Rater7</th>\n",
       "      <th>Rater8</th>\n",
       "      <th>Rater9</th>\n",
       "      <th>Rater10</th>\n",
       "      <th>Rater11</th>\n",
       "      <th>Rater12</th>\n",
       "      <th>Question</th>\n",
       "      <th>Creator</th>\n",
       "      <th>Type</th>\n",
       "      <th>ScoreSum</th>\n",
       "      <th>ScoreMean</th>\n",
       "      <th>ScoreMedian</th>\n",
       "    </tr>\n",
       "  </thead>\n",
       "  <tbody>\n",
       "    <tr>\n",
       "      <th>0</th>\n",
       "      <td>1</td>\n",
       "      <td>2</td>\n",
       "      <td>2</td>\n",
       "      <td>1</td>\n",
       "      <td>2</td>\n",
       "      <td>2</td>\n",
       "      <td>0</td>\n",
       "      <td>2</td>\n",
       "      <td>2</td>\n",
       "      <td>2</td>\n",
       "      <td>1</td>\n",
       "      <td>1</td>\n",
       "      <td>Q1</td>\n",
       "      <td>Human-made</td>\n",
       "      <td>Solvability</td>\n",
       "      <td>18</td>\n",
       "      <td>1.500000</td>\n",
       "      <td>2.0</td>\n",
       "    </tr>\n",
       "    <tr>\n",
       "      <th>5</th>\n",
       "      <td>1</td>\n",
       "      <td>1</td>\n",
       "      <td>1</td>\n",
       "      <td>1</td>\n",
       "      <td>2</td>\n",
       "      <td>1</td>\n",
       "      <td>0</td>\n",
       "      <td>2</td>\n",
       "      <td>2</td>\n",
       "      <td>2</td>\n",
       "      <td>2</td>\n",
       "      <td>2</td>\n",
       "      <td>Q1</td>\n",
       "      <td>PCMG</td>\n",
       "      <td>Solvability</td>\n",
       "      <td>17</td>\n",
       "      <td>1.416667</td>\n",
       "      <td>1.5</td>\n",
       "    </tr>\n",
       "    <tr>\n",
       "      <th>10</th>\n",
       "      <td>1</td>\n",
       "      <td>0</td>\n",
       "      <td>1</td>\n",
       "      <td>1</td>\n",
       "      <td>0</td>\n",
       "      <td>2</td>\n",
       "      <td>0</td>\n",
       "      <td>0</td>\n",
       "      <td>1</td>\n",
       "      <td>0</td>\n",
       "      <td>0</td>\n",
       "      <td>0</td>\n",
       "      <td>Q1</td>\n",
       "      <td>GPT2-based</td>\n",
       "      <td>Solvability</td>\n",
       "      <td>6</td>\n",
       "      <td>0.500000</td>\n",
       "      <td>0.0</td>\n",
       "    </tr>\n",
       "    <tr>\n",
       "      <th>15</th>\n",
       "      <td>2</td>\n",
       "      <td>2</td>\n",
       "      <td>2</td>\n",
       "      <td>2</td>\n",
       "      <td>2</td>\n",
       "      <td>2</td>\n",
       "      <td>0</td>\n",
       "      <td>2</td>\n",
       "      <td>2</td>\n",
       "      <td>2</td>\n",
       "      <td>2</td>\n",
       "      <td>2</td>\n",
       "      <td>Q2</td>\n",
       "      <td>Human-made</td>\n",
       "      <td>Solvability</td>\n",
       "      <td>22</td>\n",
       "      <td>1.833333</td>\n",
       "      <td>2.0</td>\n",
       "    </tr>\n",
       "    <tr>\n",
       "      <th>20</th>\n",
       "      <td>2</td>\n",
       "      <td>0</td>\n",
       "      <td>2</td>\n",
       "      <td>2</td>\n",
       "      <td>2</td>\n",
       "      <td>1</td>\n",
       "      <td>0</td>\n",
       "      <td>0</td>\n",
       "      <td>2</td>\n",
       "      <td>0</td>\n",
       "      <td>2</td>\n",
       "      <td>2</td>\n",
       "      <td>Q2</td>\n",
       "      <td>PCMG</td>\n",
       "      <td>Solvability</td>\n",
       "      <td>15</td>\n",
       "      <td>1.250000</td>\n",
       "      <td>2.0</td>\n",
       "    </tr>\n",
       "    <tr>\n",
       "      <th>25</th>\n",
       "      <td>2</td>\n",
       "      <td>0</td>\n",
       "      <td>2</td>\n",
       "      <td>2</td>\n",
       "      <td>2</td>\n",
       "      <td>1</td>\n",
       "      <td>0</td>\n",
       "      <td>0</td>\n",
       "      <td>2</td>\n",
       "      <td>0</td>\n",
       "      <td>2</td>\n",
       "      <td>2</td>\n",
       "      <td>Q2</td>\n",
       "      <td>GPT2-based</td>\n",
       "      <td>Solvability</td>\n",
       "      <td>15</td>\n",
       "      <td>1.250000</td>\n",
       "      <td>2.0</td>\n",
       "    </tr>\n",
       "    <tr>\n",
       "      <th>30</th>\n",
       "      <td>1</td>\n",
       "      <td>2</td>\n",
       "      <td>2</td>\n",
       "      <td>2</td>\n",
       "      <td>2</td>\n",
       "      <td>1</td>\n",
       "      <td>0</td>\n",
       "      <td>2</td>\n",
       "      <td>2</td>\n",
       "      <td>2</td>\n",
       "      <td>2</td>\n",
       "      <td>2</td>\n",
       "      <td>Q3</td>\n",
       "      <td>Human-made</td>\n",
       "      <td>Solvability</td>\n",
       "      <td>20</td>\n",
       "      <td>1.666667</td>\n",
       "      <td>2.0</td>\n",
       "    </tr>\n",
       "    <tr>\n",
       "      <th>35</th>\n",
       "      <td>1</td>\n",
       "      <td>0</td>\n",
       "      <td>2</td>\n",
       "      <td>1</td>\n",
       "      <td>2</td>\n",
       "      <td>2</td>\n",
       "      <td>0</td>\n",
       "      <td>2</td>\n",
       "      <td>1</td>\n",
       "      <td>0</td>\n",
       "      <td>2</td>\n",
       "      <td>0</td>\n",
       "      <td>Q3</td>\n",
       "      <td>PCMG</td>\n",
       "      <td>Solvability</td>\n",
       "      <td>13</td>\n",
       "      <td>1.083333</td>\n",
       "      <td>1.0</td>\n",
       "    </tr>\n",
       "    <tr>\n",
       "      <th>40</th>\n",
       "      <td>2</td>\n",
       "      <td>0</td>\n",
       "      <td>1</td>\n",
       "      <td>1</td>\n",
       "      <td>1</td>\n",
       "      <td>1</td>\n",
       "      <td>0</td>\n",
       "      <td>0</td>\n",
       "      <td>0</td>\n",
       "      <td>0</td>\n",
       "      <td>0</td>\n",
       "      <td>0</td>\n",
       "      <td>Q3</td>\n",
       "      <td>GPT2-based</td>\n",
       "      <td>Solvability</td>\n",
       "      <td>6</td>\n",
       "      <td>0.500000</td>\n",
       "      <td>0.0</td>\n",
       "    </tr>\n",
       "    <tr>\n",
       "      <th>45</th>\n",
       "      <td>1</td>\n",
       "      <td>1</td>\n",
       "      <td>2</td>\n",
       "      <td>1</td>\n",
       "      <td>2</td>\n",
       "      <td>1</td>\n",
       "      <td>0</td>\n",
       "      <td>2</td>\n",
       "      <td>2</td>\n",
       "      <td>2</td>\n",
       "      <td>2</td>\n",
       "      <td>2</td>\n",
       "      <td>Q4</td>\n",
       "      <td>Human-made</td>\n",
       "      <td>Solvability</td>\n",
       "      <td>18</td>\n",
       "      <td>1.500000</td>\n",
       "      <td>2.0</td>\n",
       "    </tr>\n",
       "    <tr>\n",
       "      <th>50</th>\n",
       "      <td>1</td>\n",
       "      <td>0</td>\n",
       "      <td>2</td>\n",
       "      <td>2</td>\n",
       "      <td>1</td>\n",
       "      <td>1</td>\n",
       "      <td>0</td>\n",
       "      <td>0</td>\n",
       "      <td>0</td>\n",
       "      <td>0</td>\n",
       "      <td>2</td>\n",
       "      <td>0</td>\n",
       "      <td>Q4</td>\n",
       "      <td>PCMG</td>\n",
       "      <td>Solvability</td>\n",
       "      <td>9</td>\n",
       "      <td>0.750000</td>\n",
       "      <td>0.5</td>\n",
       "    </tr>\n",
       "    <tr>\n",
       "      <th>55</th>\n",
       "      <td>1</td>\n",
       "      <td>1</td>\n",
       "      <td>2</td>\n",
       "      <td>2</td>\n",
       "      <td>1</td>\n",
       "      <td>2</td>\n",
       "      <td>0</td>\n",
       "      <td>1</td>\n",
       "      <td>1</td>\n",
       "      <td>1</td>\n",
       "      <td>1</td>\n",
       "      <td>1</td>\n",
       "      <td>Q4</td>\n",
       "      <td>GPT2-based</td>\n",
       "      <td>Solvability</td>\n",
       "      <td>14</td>\n",
       "      <td>1.166667</td>\n",
       "      <td>1.0</td>\n",
       "    </tr>\n",
       "    <tr>\n",
       "      <th>60</th>\n",
       "      <td>1</td>\n",
       "      <td>2</td>\n",
       "      <td>2</td>\n",
       "      <td>2</td>\n",
       "      <td>2</td>\n",
       "      <td>2</td>\n",
       "      <td>0</td>\n",
       "      <td>2</td>\n",
       "      <td>2</td>\n",
       "      <td>2</td>\n",
       "      <td>2</td>\n",
       "      <td>2</td>\n",
       "      <td>Q5</td>\n",
       "      <td>Human-made</td>\n",
       "      <td>Solvability</td>\n",
       "      <td>21</td>\n",
       "      <td>1.750000</td>\n",
       "      <td>2.0</td>\n",
       "    </tr>\n",
       "    <tr>\n",
       "      <th>65</th>\n",
       "      <td>1</td>\n",
       "      <td>2</td>\n",
       "      <td>2</td>\n",
       "      <td>2</td>\n",
       "      <td>2</td>\n",
       "      <td>2</td>\n",
       "      <td>0</td>\n",
       "      <td>2</td>\n",
       "      <td>2</td>\n",
       "      <td>2</td>\n",
       "      <td>2</td>\n",
       "      <td>2</td>\n",
       "      <td>Q5</td>\n",
       "      <td>PCMG</td>\n",
       "      <td>Solvability</td>\n",
       "      <td>21</td>\n",
       "      <td>1.750000</td>\n",
       "      <td>2.0</td>\n",
       "    </tr>\n",
       "    <tr>\n",
       "      <th>70</th>\n",
       "      <td>1</td>\n",
       "      <td>2</td>\n",
       "      <td>0</td>\n",
       "      <td>2</td>\n",
       "      <td>0</td>\n",
       "      <td>1</td>\n",
       "      <td>0</td>\n",
       "      <td>2</td>\n",
       "      <td>0</td>\n",
       "      <td>0</td>\n",
       "      <td>0</td>\n",
       "      <td>0</td>\n",
       "      <td>Q5</td>\n",
       "      <td>GPT2-based</td>\n",
       "      <td>Solvability</td>\n",
       "      <td>8</td>\n",
       "      <td>0.666667</td>\n",
       "      <td>0.0</td>\n",
       "    </tr>\n",
       "    <tr>\n",
       "      <th>75</th>\n",
       "      <td>2</td>\n",
       "      <td>2</td>\n",
       "      <td>2</td>\n",
       "      <td>2</td>\n",
       "      <td>2</td>\n",
       "      <td>1</td>\n",
       "      <td>0</td>\n",
       "      <td>2</td>\n",
       "      <td>2</td>\n",
       "      <td>2</td>\n",
       "      <td>2</td>\n",
       "      <td>2</td>\n",
       "      <td>Q6</td>\n",
       "      <td>Human-made</td>\n",
       "      <td>Solvability</td>\n",
       "      <td>21</td>\n",
       "      <td>1.750000</td>\n",
       "      <td>2.0</td>\n",
       "    </tr>\n",
       "    <tr>\n",
       "      <th>80</th>\n",
       "      <td>1</td>\n",
       "      <td>1</td>\n",
       "      <td>1</td>\n",
       "      <td>0</td>\n",
       "      <td>0</td>\n",
       "      <td>1</td>\n",
       "      <td>0</td>\n",
       "      <td>1</td>\n",
       "      <td>0</td>\n",
       "      <td>0</td>\n",
       "      <td>0</td>\n",
       "      <td>0</td>\n",
       "      <td>Q6</td>\n",
       "      <td>PCMG</td>\n",
       "      <td>Solvability</td>\n",
       "      <td>5</td>\n",
       "      <td>0.416667</td>\n",
       "      <td>0.0</td>\n",
       "    </tr>\n",
       "    <tr>\n",
       "      <th>85</th>\n",
       "      <td>2</td>\n",
       "      <td>0</td>\n",
       "      <td>0</td>\n",
       "      <td>1</td>\n",
       "      <td>0</td>\n",
       "      <td>1</td>\n",
       "      <td>0</td>\n",
       "      <td>0</td>\n",
       "      <td>0</td>\n",
       "      <td>0</td>\n",
       "      <td>0</td>\n",
       "      <td>0</td>\n",
       "      <td>Q6</td>\n",
       "      <td>GPT2-based</td>\n",
       "      <td>Solvability</td>\n",
       "      <td>4</td>\n",
       "      <td>0.333333</td>\n",
       "      <td>0.0</td>\n",
       "    </tr>\n",
       "    <tr>\n",
       "      <th>90</th>\n",
       "      <td>2</td>\n",
       "      <td>2</td>\n",
       "      <td>2</td>\n",
       "      <td>2</td>\n",
       "      <td>2</td>\n",
       "      <td>1</td>\n",
       "      <td>0</td>\n",
       "      <td>2</td>\n",
       "      <td>0</td>\n",
       "      <td>2</td>\n",
       "      <td>2</td>\n",
       "      <td>2</td>\n",
       "      <td>Q7</td>\n",
       "      <td>Human-made</td>\n",
       "      <td>Solvability</td>\n",
       "      <td>19</td>\n",
       "      <td>1.583333</td>\n",
       "      <td>2.0</td>\n",
       "    </tr>\n",
       "    <tr>\n",
       "      <th>95</th>\n",
       "      <td>1</td>\n",
       "      <td>1</td>\n",
       "      <td>2</td>\n",
       "      <td>1</td>\n",
       "      <td>2</td>\n",
       "      <td>1</td>\n",
       "      <td>0</td>\n",
       "      <td>2</td>\n",
       "      <td>2</td>\n",
       "      <td>2</td>\n",
       "      <td>2</td>\n",
       "      <td>2</td>\n",
       "      <td>Q7</td>\n",
       "      <td>PCMG</td>\n",
       "      <td>Solvability</td>\n",
       "      <td>18</td>\n",
       "      <td>1.500000</td>\n",
       "      <td>2.0</td>\n",
       "    </tr>\n",
       "    <tr>\n",
       "      <th>100</th>\n",
       "      <td>1</td>\n",
       "      <td>1</td>\n",
       "      <td>1</td>\n",
       "      <td>1</td>\n",
       "      <td>1</td>\n",
       "      <td>1</td>\n",
       "      <td>0</td>\n",
       "      <td>1</td>\n",
       "      <td>1</td>\n",
       "      <td>1</td>\n",
       "      <td>1</td>\n",
       "      <td>0</td>\n",
       "      <td>Q7</td>\n",
       "      <td>GPT2-based</td>\n",
       "      <td>Solvability</td>\n",
       "      <td>10</td>\n",
       "      <td>0.833333</td>\n",
       "      <td>1.0</td>\n",
       "    </tr>\n",
       "    <tr>\n",
       "      <th>105</th>\n",
       "      <td>1</td>\n",
       "      <td>2</td>\n",
       "      <td>2</td>\n",
       "      <td>2</td>\n",
       "      <td>2</td>\n",
       "      <td>2</td>\n",
       "      <td>0</td>\n",
       "      <td>2</td>\n",
       "      <td>2</td>\n",
       "      <td>2</td>\n",
       "      <td>2</td>\n",
       "      <td>2</td>\n",
       "      <td>Q8</td>\n",
       "      <td>Human-made</td>\n",
       "      <td>Solvability</td>\n",
       "      <td>21</td>\n",
       "      <td>1.750000</td>\n",
       "      <td>2.0</td>\n",
       "    </tr>\n",
       "    <tr>\n",
       "      <th>110</th>\n",
       "      <td>2</td>\n",
       "      <td>0</td>\n",
       "      <td>2</td>\n",
       "      <td>2</td>\n",
       "      <td>0</td>\n",
       "      <td>2</td>\n",
       "      <td>0</td>\n",
       "      <td>2</td>\n",
       "      <td>0</td>\n",
       "      <td>2</td>\n",
       "      <td>2</td>\n",
       "      <td>0</td>\n",
       "      <td>Q8</td>\n",
       "      <td>PCMG</td>\n",
       "      <td>Solvability</td>\n",
       "      <td>14</td>\n",
       "      <td>1.166667</td>\n",
       "      <td>2.0</td>\n",
       "    </tr>\n",
       "    <tr>\n",
       "      <th>115</th>\n",
       "      <td>1</td>\n",
       "      <td>0</td>\n",
       "      <td>1</td>\n",
       "      <td>1</td>\n",
       "      <td>1</td>\n",
       "      <td>1</td>\n",
       "      <td>0</td>\n",
       "      <td>1</td>\n",
       "      <td>1</td>\n",
       "      <td>1</td>\n",
       "      <td>1</td>\n",
       "      <td>1</td>\n",
       "      <td>Q8</td>\n",
       "      <td>GPT2-based</td>\n",
       "      <td>Solvability</td>\n",
       "      <td>10</td>\n",
       "      <td>0.833333</td>\n",
       "      <td>1.0</td>\n",
       "    </tr>\n",
       "    <tr>\n",
       "      <th>120</th>\n",
       "      <td>1</td>\n",
       "      <td>2</td>\n",
       "      <td>2</td>\n",
       "      <td>2</td>\n",
       "      <td>2</td>\n",
       "      <td>2</td>\n",
       "      <td>0</td>\n",
       "      <td>2</td>\n",
       "      <td>2</td>\n",
       "      <td>2</td>\n",
       "      <td>2</td>\n",
       "      <td>2</td>\n",
       "      <td>Q9</td>\n",
       "      <td>Human-made</td>\n",
       "      <td>Solvability</td>\n",
       "      <td>21</td>\n",
       "      <td>1.750000</td>\n",
       "      <td>2.0</td>\n",
       "    </tr>\n",
       "    <tr>\n",
       "      <th>125</th>\n",
       "      <td>2</td>\n",
       "      <td>2</td>\n",
       "      <td>1</td>\n",
       "      <td>2</td>\n",
       "      <td>0</td>\n",
       "      <td>1</td>\n",
       "      <td>0</td>\n",
       "      <td>2</td>\n",
       "      <td>0</td>\n",
       "      <td>2</td>\n",
       "      <td>2</td>\n",
       "      <td>2</td>\n",
       "      <td>Q9</td>\n",
       "      <td>PCMG</td>\n",
       "      <td>Solvability</td>\n",
       "      <td>16</td>\n",
       "      <td>1.333333</td>\n",
       "      <td>2.0</td>\n",
       "    </tr>\n",
       "    <tr>\n",
       "      <th>130</th>\n",
       "      <td>1</td>\n",
       "      <td>1</td>\n",
       "      <td>0</td>\n",
       "      <td>1</td>\n",
       "      <td>1</td>\n",
       "      <td>1</td>\n",
       "      <td>0</td>\n",
       "      <td>1</td>\n",
       "      <td>1</td>\n",
       "      <td>1</td>\n",
       "      <td>1</td>\n",
       "      <td>1</td>\n",
       "      <td>Q9</td>\n",
       "      <td>GPT2-based</td>\n",
       "      <td>Solvability</td>\n",
       "      <td>10</td>\n",
       "      <td>0.833333</td>\n",
       "      <td>1.0</td>\n",
       "    </tr>\n",
       "    <tr>\n",
       "      <th>135</th>\n",
       "      <td>1</td>\n",
       "      <td>2</td>\n",
       "      <td>2</td>\n",
       "      <td>2</td>\n",
       "      <td>2</td>\n",
       "      <td>1</td>\n",
       "      <td>0</td>\n",
       "      <td>2</td>\n",
       "      <td>2</td>\n",
       "      <td>2</td>\n",
       "      <td>2</td>\n",
       "      <td>2</td>\n",
       "      <td>Q10</td>\n",
       "      <td>Human-made</td>\n",
       "      <td>Solvability</td>\n",
       "      <td>20</td>\n",
       "      <td>1.666667</td>\n",
       "      <td>2.0</td>\n",
       "    </tr>\n",
       "    <tr>\n",
       "      <th>140</th>\n",
       "      <td>1</td>\n",
       "      <td>2</td>\n",
       "      <td>2</td>\n",
       "      <td>1</td>\n",
       "      <td>0</td>\n",
       "      <td>1</td>\n",
       "      <td>0</td>\n",
       "      <td>2</td>\n",
       "      <td>2</td>\n",
       "      <td>2</td>\n",
       "      <td>2</td>\n",
       "      <td>2</td>\n",
       "      <td>Q10</td>\n",
       "      <td>PCMG</td>\n",
       "      <td>Solvability</td>\n",
       "      <td>17</td>\n",
       "      <td>1.416667</td>\n",
       "      <td>2.0</td>\n",
       "    </tr>\n",
       "    <tr>\n",
       "      <th>145</th>\n",
       "      <td>1</td>\n",
       "      <td>1</td>\n",
       "      <td>1</td>\n",
       "      <td>1</td>\n",
       "      <td>0</td>\n",
       "      <td>1</td>\n",
       "      <td>0</td>\n",
       "      <td>1</td>\n",
       "      <td>0</td>\n",
       "      <td>1</td>\n",
       "      <td>0</td>\n",
       "      <td>0</td>\n",
       "      <td>Q10</td>\n",
       "      <td>GPT2-based</td>\n",
       "      <td>Solvability</td>\n",
       "      <td>7</td>\n",
       "      <td>0.583333</td>\n",
       "      <td>1.0</td>\n",
       "    </tr>\n",
       "  </tbody>\n",
       "</table>\n",
       "</div>"
      ],
      "text/plain": [
       "     Rater1  Rater2  Rater3  Rater4  Rater5  Rater6  Rater7  Rater8  Rater9  \\\n",
       "0         1       2       2       1       2       2       0       2       2   \n",
       "5         1       1       1       1       2       1       0       2       2   \n",
       "10        1       0       1       1       0       2       0       0       1   \n",
       "15        2       2       2       2       2       2       0       2       2   \n",
       "20        2       0       2       2       2       1       0       0       2   \n",
       "25        2       0       2       2       2       1       0       0       2   \n",
       "30        1       2       2       2       2       1       0       2       2   \n",
       "35        1       0       2       1       2       2       0       2       1   \n",
       "40        2       0       1       1       1       1       0       0       0   \n",
       "45        1       1       2       1       2       1       0       2       2   \n",
       "50        1       0       2       2       1       1       0       0       0   \n",
       "55        1       1       2       2       1       2       0       1       1   \n",
       "60        1       2       2       2       2       2       0       2       2   \n",
       "65        1       2       2       2       2       2       0       2       2   \n",
       "70        1       2       0       2       0       1       0       2       0   \n",
       "75        2       2       2       2       2       1       0       2       2   \n",
       "80        1       1       1       0       0       1       0       1       0   \n",
       "85        2       0       0       1       0       1       0       0       0   \n",
       "90        2       2       2       2       2       1       0       2       0   \n",
       "95        1       1       2       1       2       1       0       2       2   \n",
       "100       1       1       1       1       1       1       0       1       1   \n",
       "105       1       2       2       2       2       2       0       2       2   \n",
       "110       2       0       2       2       0       2       0       2       0   \n",
       "115       1       0       1       1       1       1       0       1       1   \n",
       "120       1       2       2       2       2       2       0       2       2   \n",
       "125       2       2       1       2       0       1       0       2       0   \n",
       "130       1       1       0       1       1       1       0       1       1   \n",
       "135       1       2       2       2       2       1       0       2       2   \n",
       "140       1       2       2       1       0       1       0       2       2   \n",
       "145       1       1       1       1       0       1       0       1       0   \n",
       "\n",
       "     Rater10  Rater11  Rater12 Question     Creator         Type  ScoreSum  \\\n",
       "0          2        1        1       Q1  Human-made  Solvability        18   \n",
       "5          2        2        2       Q1        PCMG  Solvability        17   \n",
       "10         0        0        0       Q1  GPT2-based  Solvability         6   \n",
       "15         2        2        2       Q2  Human-made  Solvability        22   \n",
       "20         0        2        2       Q2        PCMG  Solvability        15   \n",
       "25         0        2        2       Q2  GPT2-based  Solvability        15   \n",
       "30         2        2        2       Q3  Human-made  Solvability        20   \n",
       "35         0        2        0       Q3        PCMG  Solvability        13   \n",
       "40         0        0        0       Q3  GPT2-based  Solvability         6   \n",
       "45         2        2        2       Q4  Human-made  Solvability        18   \n",
       "50         0        2        0       Q4        PCMG  Solvability         9   \n",
       "55         1        1        1       Q4  GPT2-based  Solvability        14   \n",
       "60         2        2        2       Q5  Human-made  Solvability        21   \n",
       "65         2        2        2       Q5        PCMG  Solvability        21   \n",
       "70         0        0        0       Q5  GPT2-based  Solvability         8   \n",
       "75         2        2        2       Q6  Human-made  Solvability        21   \n",
       "80         0        0        0       Q6        PCMG  Solvability         5   \n",
       "85         0        0        0       Q6  GPT2-based  Solvability         4   \n",
       "90         2        2        2       Q7  Human-made  Solvability        19   \n",
       "95         2        2        2       Q7        PCMG  Solvability        18   \n",
       "100        1        1        0       Q7  GPT2-based  Solvability        10   \n",
       "105        2        2        2       Q8  Human-made  Solvability        21   \n",
       "110        2        2        0       Q8        PCMG  Solvability        14   \n",
       "115        1        1        1       Q8  GPT2-based  Solvability        10   \n",
       "120        2        2        2       Q9  Human-made  Solvability        21   \n",
       "125        2        2        2       Q9        PCMG  Solvability        16   \n",
       "130        1        1        1       Q9  GPT2-based  Solvability        10   \n",
       "135        2        2        2      Q10  Human-made  Solvability        20   \n",
       "140        2        2        2      Q10        PCMG  Solvability        17   \n",
       "145        1        0        0      Q10  GPT2-based  Solvability         7   \n",
       "\n",
       "     ScoreMean  ScoreMedian  \n",
       "0     1.500000          2.0  \n",
       "5     1.416667          1.5  \n",
       "10    0.500000          0.0  \n",
       "15    1.833333          2.0  \n",
       "20    1.250000          2.0  \n",
       "25    1.250000          2.0  \n",
       "30    1.666667          2.0  \n",
       "35    1.083333          1.0  \n",
       "40    0.500000          0.0  \n",
       "45    1.500000          2.0  \n",
       "50    0.750000          0.5  \n",
       "55    1.166667          1.0  \n",
       "60    1.750000          2.0  \n",
       "65    1.750000          2.0  \n",
       "70    0.666667          0.0  \n",
       "75    1.750000          2.0  \n",
       "80    0.416667          0.0  \n",
       "85    0.333333          0.0  \n",
       "90    1.583333          2.0  \n",
       "95    1.500000          2.0  \n",
       "100   0.833333          1.0  \n",
       "105   1.750000          2.0  \n",
       "110   1.166667          2.0  \n",
       "115   0.833333          1.0  \n",
       "120   1.750000          2.0  \n",
       "125   1.333333          2.0  \n",
       "130   0.833333          1.0  \n",
       "135   1.666667          2.0  \n",
       "140   1.416667          2.0  \n",
       "145   0.583333          1.0  "
      ]
     },
     "execution_count": 77,
     "metadata": {},
     "output_type": "execute_result"
    }
   ],
   "source": [
    "solvability_data_vis"
   ]
  },
  {
   "cell_type": "markdown",
   "metadata": {},
   "source": [
    "## Plots for Solvability Data"
   ]
  },
  {
   "cell_type": "code",
   "execution_count": 111,
   "metadata": {},
   "outputs": [
    {
     "data": {
      "text/plain": [
       "<AxesSubplot:xlabel='Question', ylabel='ScoreSum'>"
      ]
     },
     "execution_count": 111,
     "metadata": {},
     "output_type": "execute_result"
    },
    {
     "data": {
      "image/png": "[encoded data removed]",
      "text/plain": [
       "<Figure size 640x480 with 1 Axes>"
      ]
     },
     "metadata": {},
     "output_type": "display_data"
    }
   ],
   "source": [
    "sns.barplot(data=solvability_data_vis, x=\"Question\", y=\"ScoreSum\", hue=\"Creator\")"
   ]
  },
  {
   "cell_type": "code",
   "execution_count": 110,
   "metadata": {},
   "outputs": [
    {
     "data": {
      "text/plain": [
       "<AxesSubplot:xlabel='ScoreSum', ylabel='Creator'>"
      ]
     },
     "execution_count": 110,
     "metadata": {},
     "output_type": "execute_result"
    },
    {
     "data": {
      "image/png": "[encoded data removed]",
      "text/plain": [
       "<Figure size 640x480 with 1 Axes>"
      ]
     },
     "metadata": {},
     "output_type": "display_data"
    }
   ],
   "source": [
    "sns.boxplot(data=solvability_data_vis, x=\"ScoreSum\", y=\"Creator\", hue=\"Creator\")"
   ]
  },
  {
   "cell_type": "markdown",
   "metadata": {},
   "source": [
    "## Readability DataFrame for Visualization"
   ]
  },
  {
   "cell_type": "code",
   "execution_count": 13,
   "metadata": {},
   "outputs": [],
   "source": [
    "readability_data_grouped = readability_data.groupby(['Creator','Question'],sort=False).mean()"
   ]
  },
  {
   "cell_type": "code",
   "execution_count": 14,
   "metadata": {},
   "outputs": [],
   "source": [
    "readability_data_grouped_vis = readability_data_grouped.copy()"
   ]
  },
  {
   "cell_type": "code",
   "execution_count": 15,
   "metadata": {},
   "outputs": [],
   "source": [
    "readability_data_grouped_vis['ScoreSum'] = readability_data_grouped.sum(axis=1, numeric_only=True)\n",
    "readability_data_grouped_vis['ScoreMean'] = readability_data_grouped.mean(axis=1, numeric_only=True)\n",
    "readability_data_grouped_vis['ScoreMedian'] = readability_data_grouped.median(axis=1, numeric_only=True)"
   ]
  },
  {
   "cell_type": "code",
   "execution_count": 16,
   "metadata": {},
   "outputs": [],
   "source": [
    "readability_data_grouped_vis['Creator'] = ['Human-made','PCMG','GPT2-based']*10\n",
    "q_type = []\n",
    "for i in range(1,11):\n",
    "    q_type += [f'Q{i}']*3\n",
    "readability_data_grouped_vis['Question'] = q_type"
   ]
  },
  {
   "cell_type": "markdown",
   "metadata": {},
   "source": [
    "## Plots for Readability Data"
   ]
  },
  {
   "cell_type": "code",
   "execution_count": 109,
   "metadata": {},
   "outputs": [
    {
     "data": {
      "text/plain": [
       "<AxesSubplot:xlabel='Question', ylabel='ScoreSum'>"
      ]
     },
     "execution_count": 109,
     "metadata": {},
     "output_type": "execute_result"
    },
    {
     "data": {
      "image/png": "[encoded data removed]",
      "text/plain": [
       "<Figure size 640x480 with 1 Axes>"
      ]
     },
     "metadata": {},
     "output_type": "display_data"
    }
   ],
   "source": [
    "sns.barplot(data=readability_data_grouped_vis, x=\"Question\", y=\"ScoreSum\", hue=\"Creator\")"
   ]
  },
  {
   "cell_type": "code",
   "execution_count": 107,
   "metadata": {},
   "outputs": [
    {
     "data": {
      "text/plain": [
       "<AxesSubplot:xlabel='ScoreSum', ylabel='Creator'>"
      ]
     },
     "execution_count": 107,
     "metadata": {},
     "output_type": "execute_result"
    },
    {
     "data": {
      "image/png": "[encoded data removed]",
      "text/plain": [
       "<Figure size 640x480 with 1 Axes>"
      ]
     },
     "metadata": {},
     "output_type": "display_data"
    }
   ],
   "source": [
    "sns.boxplot(data=readability_data_grouped_vis, x=\"ScoreSum\", y=\"Creator\", hue=\"Creator\")"
   ]
  },
  {
   "cell_type": "markdown",
   "metadata": {},
   "source": [
    "# Point Statistics"
   ]
  },
  {
   "cell_type": "markdown",
   "metadata": {},
   "source": [
    "## Mean Score of Each MWP --> 1x10 Vector"
   ]
  },
  {
   "cell_type": "markdown",
   "metadata": {},
   "source": [
    "### Solvability"
   ]
  },
  {
   "cell_type": "code",
   "execution_count": 21,
   "metadata": {},
   "outputs": [],
   "source": [
    "human_s_mean_q = solvability_data_vis[solvability_data_vis.Creator == 'Human-made']['ScoreMean'].to_numpy()\n",
    "pcmg_s_mean_q = solvability_data_vis[solvability_data_vis.Creator == 'PCMG']['ScoreMean'].to_numpy()\n",
    "gpt2_s_mean_q = solvability_data_vis[solvability_data_vis.Creator == 'GPT2-based']['ScoreMean'].to_numpy()"
   ]
  },
  {
   "cell_type": "code",
   "execution_count": 22,
   "metadata": {},
   "outputs": [],
   "source": [
    "\n",
    "def grouped_avg_of_question(arr: np.ndarray, n: int=4) -> np.ndarray:\n",
    "    result = np.cumsum(arr, 0)[n-1::n]/float(n)\n",
    "    result[1:] = result[1:] - result[:-1]\n",
    "    return result"
   ]
  },
  {
   "cell_type": "markdown",
   "metadata": {},
   "source": [
    "### Readability"
   ]
  },
  {
   "cell_type": "code",
   "execution_count": 23,
   "metadata": {},
   "outputs": [],
   "source": [
    "human_r_mean_q = readability_data_grouped_vis[readability_data_grouped_vis.Creator == 'Human-made']['ScoreMean'].to_numpy()\n",
    "pcmg_r_mean_q = readability_data_grouped_vis[readability_data_grouped_vis.Creator == 'PCMG']['ScoreMean'].to_numpy()\n",
    "gpt2_r_mean_q = readability_data_grouped_vis[readability_data_grouped_vis.Creator == 'GPT2-based']['ScoreMean'].to_numpy()"
   ]
  },
  {
   "cell_type": "code",
   "execution_count": 24,
   "metadata": {},
   "outputs": [
    {
     "name": "stdout",
     "output_type": "stream",
     "text": [
      "Human-made Mean\n",
      "Question 1: 3.5833333333333335\n",
      "Question 2: 3.3958333333333335\n",
      "Question 3: 3.6666666666666665\n",
      "Question 4: 3.0208333333333335\n",
      "Question 5: 3.7083333333333335\n",
      "Question 6: 3.8125\n",
      "Question 7: 3.4791666666666665\n",
      "Question 8: 3.1875\n",
      "Question 9: 3.7708333333333335\n",
      "Question 10: 3.8541666666666665\n"
     ]
    }
   ],
   "source": [
    "print(\"Human-made Mean\")\n",
    "print_vector_results(human_r_mean_q)"
   ]
  },
  {
   "cell_type": "code",
   "execution_count": 25,
   "metadata": {},
   "outputs": [
    {
     "name": "stdout",
     "output_type": "stream",
     "text": [
      "PCMG Mean\n",
      "Question 1: 3.5833333333333335\n",
      "Question 2: 2.75\n",
      "Question 3: 2.5625\n",
      "Question 4: 2.2708333333333335\n",
      "Question 5: 3.7291666666666665\n",
      "Question 6: 1.375\n",
      "Question 7: 3.7916666666666665\n",
      "Question 8: 2.2291666666666665\n",
      "Question 9: 1.8125\n",
      "Question 10: 3.4791666666666665\n"
     ]
    }
   ],
   "source": [
    "print(\"PCMG Mean\")\n",
    "print_vector_results(pcmg_r_mean_q)"
   ]
  },
  {
   "cell_type": "code",
   "execution_count": 26,
   "metadata": {},
   "outputs": [
    {
     "name": "stdout",
     "output_type": "stream",
     "text": [
      "GPT2-based Mean\n",
      "Question 1: 2.0416666666666665\n",
      "Question 2: 2.1041666666666665\n",
      "Question 3: 2.1666666666666665\n",
      "Question 4: 2.2291666666666665\n",
      "Question 5: 1.1458333333333333\n",
      "Question 6: 1.25\n",
      "Question 7: 2.5\n",
      "Question 8: 3.0208333333333335\n",
      "Question 9: 2.75\n",
      "Question 10: 1.5625\n"
     ]
    }
   ],
   "source": [
    "print(\"GPT2-based Mean\")\n",
    "print_vector_results(gpt2_r_mean_q)"
   ]
  },
  {
   "cell_type": "markdown",
   "metadata": {},
   "source": [
    "## Mean Score of Each Creator --> Scalar"
   ]
  },
  {
   "cell_type": "code",
   "execution_count": 27,
   "metadata": {},
   "outputs": [
    {
     "name": "stdout",
     "output_type": "stream",
     "text": [
      "풀이 가능성 Mean\n",
      "Human-made: 1.675, PCMG:1.2083333333333335, GPT2-based: 0.75\n"
     ]
    }
   ],
   "source": [
    "# Solvability\n",
    "human_s_mean = human_s_mean_q.mean(axis=0)\n",
    "pcmg_s_mean = pcmg_s_mean_q.mean(axis=0)\n",
    "gpt2_s_mean = gpt2_s_mean_q.mean(axis=0)\n",
    "print(f'풀이 가능성 Mean\\nHuman-made: {human_s_mean}, PCMG:{pcmg_s_mean}, GPT2-based: {gpt2_s_mean}')"
   ]
  },
  {
   "cell_type": "code",
   "execution_count": 28,
   "metadata": {},
   "outputs": [
    {
     "name": "stdout",
     "output_type": "stream",
     "text": [
      "독해 가능성 Mean\n",
      "Human-made: 3.5479166666666666, PCMG:2.7583333333333337, GPT2-based: 2.0770833333333334\n"
     ]
    }
   ],
   "source": [
    "# Readability\n",
    "human_r_mean = human_r_mean_q.mean(axis=0)\n",
    "pcmg_r_mean = pcmg_r_mean_q.mean(axis=0)\n",
    "gpt2_r_mean = gpt2_r_mean_q.mean(axis=0)\n",
    "print(f'독해 가능성 Mean\\nHuman-made: {human_r_mean}, PCMG:{pcmg_r_mean}, GPT2-based: {gpt2_r_mean}')"
   ]
  },
  {
   "cell_type": "markdown",
   "metadata": {},
   "source": [
    "## Std. Dev. of Each Creator --> Scalar"
   ]
  },
  {
   "cell_type": "code",
   "execution_count": 29,
   "metadata": {},
   "outputs": [
    {
     "name": "stdout",
     "output_type": "stream",
     "text": [
      "풀이 가능성 Std. Dev.\n",
      "Human-made: 0.10833333333333332, PCMG:0.3656235161413384, GPT2-based: 0.27888667551135854\n"
     ]
    }
   ],
   "source": [
    "# Solvability\n",
    "human_s_std = human_s_mean_q.std(axis=0)\n",
    "pcmg_s_std = pcmg_s_mean_q.std(axis=0)\n",
    "gpt2_s_std = gpt2_s_mean_q.std(axis=0)\n",
    "print(f'풀이 가능성 Std. Dev.\\nHuman-made: {human_s_std}, PCMG:{pcmg_s_std}, GPT2-based: {gpt2_s_std}')"
   ]
  },
  {
   "cell_type": "code",
   "execution_count": 30,
   "metadata": {},
   "outputs": [
    {
     "name": "stdout",
     "output_type": "stream",
     "text": [
      "독해 가능성 Std. Dev.\n",
      "Human-made: 0.26270659859326795, PCMG:0.8108530316209522, GPT2-based: 0.5806523211488572\n"
     ]
    }
   ],
   "source": [
    "# Solvability\n",
    "human_r_std = human_r_mean_q.std(axis=0)\n",
    "pcmg_r_std = pcmg_r_mean_q.std(axis=0)\n",
    "gpt2_r_std = gpt2_r_mean_q.std(axis=0)\n",
    "print(f'독해 가능성 Std. Dev.\\nHuman-made: {human_r_std}, PCMG:{pcmg_r_std}, GPT2-based: {gpt2_r_std}')"
   ]
  },
  {
   "cell_type": "markdown",
   "metadata": {},
   "source": [
    "## Sum Score of Each MWP (For Median calculation)"
   ]
  },
  {
   "cell_type": "markdown",
   "metadata": {},
   "source": [
    "### Solvability"
   ]
  },
  {
   "cell_type": "code",
   "execution_count": 72,
   "metadata": {},
   "outputs": [],
   "source": [
    "human_s_sum_q = solvability_data_vis[solvability_data_vis.Creator == 'Human-made']['ScoreSum'].to_numpy()\n",
    "pcmg_s_sum_q = solvability_data_vis[solvability_data_vis.Creator == 'PCMG']['ScoreSum'].to_numpy()\n",
    "gpt2_s_sum_q = solvability_data_vis[solvability_data_vis.Creator == 'GPT2-based']['ScoreSum'].to_numpy()"
   ]
  },
  {
   "cell_type": "markdown",
   "metadata": {},
   "source": [
    "### Readability"
   ]
  },
  {
   "cell_type": "code",
   "execution_count": 81,
   "metadata": {},
   "outputs": [],
   "source": [
    "human_r_sum_q = readability_data_grouped_vis[readability_data_grouped_vis.Creator == 'Human-made']['ScoreSum'].to_numpy()\n",
    "pcmg_r_sum_q = readability_data_grouped_vis[readability_data_grouped_vis.Creator == 'PCMG']['ScoreSum'].to_numpy()\n",
    "gpt2_r_sum_q = readability_data_grouped_vis[readability_data_grouped_vis.Creator == 'GPT2-based']['ScoreSum'].to_numpy()"
   ]
  },
  {
   "cell_type": "markdown",
   "metadata": {},
   "source": [
    "## Median Score of Each Creator"
   ]
  },
  {
   "cell_type": "markdown",
   "metadata": {},
   "source": [
    "### Solvability"
   ]
  },
  {
   "cell_type": "code",
   "execution_count": 80,
   "metadata": {},
   "outputs": [
    {
     "name": "stdout",
     "output_type": "stream",
     "text": [
      "풀이 가능성 Mean\n",
      "Human-made: 20.5, PCMG:15.5, GPT2-based: 9.0\n"
     ]
    }
   ],
   "source": [
    "human_s_median = np.median(human_s_sum_q, axis=0)\n",
    "pcmg_s_median = np.median(pcmg_s_sum_q, axis=0)\n",
    "gpt2_s_median = np.median(gpt2_s_sum_q, axis=0)\n",
    "print(f'풀이 가능성 Mean\\nHuman-made: {human_s_median}, PCMG:{pcmg_s_median}, GPT2-based: {gpt2_s_median}')"
   ]
  },
  {
   "cell_type": "markdown",
   "metadata": {},
   "source": [
    "### Readability"
   ]
  },
  {
   "cell_type": "code",
   "execution_count": 82,
   "metadata": {},
   "outputs": [
    {
     "name": "stdout",
     "output_type": "stream",
     "text": [
      "풀이 가능성 Mean\n",
      "Human-made: 20.5, PCMG:15.5, GPT2-based: 9.0\n"
     ]
    }
   ],
   "source": [
    "human_r_median = np.median(human_r_sum_q, axis=0)\n",
    "pcmg_r_median = np.median(pcmg_r_sum_q, axis=0)\n",
    "gpt2_r_median = np.median(gpt2_r_sum_q, axis=0)\n",
    "print(f'풀이 가능성 Mean\\nHuman-made: {human_s_median}, PCMG:{pcmg_s_median}, GPT2-based: {gpt2_s_median}')"
   ]
  },
  {
   "cell_type": "markdown",
   "metadata": {},
   "source": [
    "# Hypotheses"
   ]
  },
  {
   "cell_type": "markdown",
   "metadata": {},
   "source": [
    "## Using Mean"
   ]
  },
  {
   "cell_type": "code",
   "execution_count": 35,
   "metadata": {},
   "outputs": [],
   "source": [
    "# hypo_1_mean = np.concatenate((pcmg_s_mean_q.reshape(1,-1),human_s_mean_q.reshape(1,-1)),axis=0)\n",
    "# hypo_2_mean = np.concatenate((pcmg_r_mean_q.reshape(1,-1),human_r_mean_q.reshape(1,-1)),axis=0)\n",
    "# hypo_3_mean = np.concatenate((pcmg_s_mean_q.reshape(1,-1),gpt2_s_mean_q.reshape(1,-1)),axis=0)\n",
    "# hypo_4_mean = np.concatenate((pcmg_r_mean_q.reshape(1,-1),gpt2_r_mean_q.reshape(1,-1)),axis=0)"
   ]
  },
  {
   "cell_type": "code",
   "execution_count": 118,
   "metadata": {},
   "outputs": [],
   "source": [
    "hypo_1 = np.concatenate((pcmg_s_sum_q.reshape(1,-1),human_s_sum_q.reshape(1,-1)),axis=0)\n",
    "hypo_2 = np.concatenate((pcmg_r_sum_q.reshape(1,-1),human_r_sum_q.reshape(1,-1)),axis=0)\n",
    "hypo_3 = np.concatenate((pcmg_s_sum_q.reshape(1,-1),gpt2_s_sum_q.reshape(1,-1)),axis=0)\n",
    "hypo_4 = np.concatenate((pcmg_r_sum_q.reshape(1,-1),gpt2_r_sum_q.reshape(1,-1)),axis=0)"
   ]
  },
  {
   "cell_type": "code",
   "execution_count": 37,
   "metadata": {},
   "outputs": [],
   "source": [
    "# hypo_1_median = np.concatenate((pcmg_s.reshape(1,-1),human_s.reshape(1,-1)),axis=0)\n",
    "# hypo_2_median = np.concatenate((pcmg_r.reshape(1,-1),human_r.reshape(1,-1)),axis=0)\n",
    "# hypo_3_median = np.concatenate((pcmg_s.reshape(1,-1),gpt2_s.reshape(1,-1)),axis=0)\n",
    "# hypo_4_median = np.concatenate((pcmg_r.reshape(1,-1),gpt2_r.reshape(1,-1)),axis=0)"
   ]
  },
  {
   "cell_type": "markdown",
   "metadata": {},
   "source": [
    "# Independence Testing of Ordinal Data (Applies for only Mean Hypo.)"
   ]
  },
  {
   "cell_type": "code",
   "execution_count": 119,
   "metadata": {},
   "outputs": [
    {
     "name": "stdout",
     "output_type": "stream",
     "text": [
      "Statistic: 0.02629859456760873, p-value: 0.9425115952865993, Independent?: True\n"
     ]
    }
   ],
   "source": [
    "IndependenceTester(hypo_1).print_results()"
   ]
  },
  {
   "cell_type": "code",
   "execution_count": 120,
   "metadata": {},
   "outputs": [
    {
     "name": "stdout",
     "output_type": "stream",
     "text": [
      "Statistic: 0.0861468451969929, p-value: 0.8129460718784188, Independent?: True\n"
     ]
    }
   ],
   "source": [
    "IndependenceTester(hypo_2).print_results()"
   ]
  },
  {
   "cell_type": "code",
   "execution_count": 121,
   "metadata": {},
   "outputs": [
    {
     "name": "stdout",
     "output_type": "stream",
     "text": [
      "Statistic: 0.0885358118585193, p-value: 0.8078389010433495, Independent?: True\n"
     ]
    }
   ],
   "source": [
    "IndependenceTester(hypo_3).print_results()"
   ]
  },
  {
   "cell_type": "code",
   "execution_count": 123,
   "metadata": {},
   "outputs": [
    {
     "name": "stdout",
     "output_type": "stream",
     "text": [
      "Statistic: -0.20195841156943253, p-value: 0.5757984204564827, Independent?: True\n"
     ]
    }
   ],
   "source": [
    "IndependenceTester(hypo_4).print_results()"
   ]
  },
  {
   "cell_type": "markdown",
   "metadata": {},
   "source": [
    "# Skewness Test"
   ]
  },
  {
   "cell_type": "markdown",
   "metadata": {},
   "source": [
    "## Solvability"
   ]
  },
  {
   "cell_type": "code",
   "execution_count": 92,
   "metadata": {},
   "outputs": [
    {
     "name": "stdout",
     "output_type": "stream",
     "text": [
      "Statistic: -1.0255233316249752, p-value: 0.30511632226555074, Skewed?: False\n"
     ]
    }
   ],
   "source": [
    "concat_vec_s = np.concatenate([human_s_sum_q.reshape((1,-1)), pcmg_s_sum_q.reshape((1,-1)), gpt2_s_sum_q.reshape((1,-1))], axis=1)\n",
    "SkewTester(concat_vec_s).print_results()"
   ]
  },
  {
   "cell_type": "code",
   "execution_count": 88,
   "metadata": {},
   "outputs": [
    {
     "name": "stdout",
     "output_type": "stream",
     "text": [
      "Statistic: -0.8147039535789896, p-value: 0.41524178976383075, Skewed?: False\n"
     ]
    }
   ],
   "source": [
    "SkewTester(human_s_sum_q.reshape((1,-1))).print_results()"
   ]
  },
  {
   "cell_type": "code",
   "execution_count": 90,
   "metadata": {},
   "outputs": [
    {
     "name": "stdout",
     "output_type": "stream",
     "text": [
      "Statistic: -1.3975694498626985, p-value: 0.16224239771569782, Skewed?: False\n"
     ]
    }
   ],
   "source": [
    "SkewTester(pcmg_s_sum_q.reshape((1,-1))).print_results()"
   ]
  },
  {
   "cell_type": "code",
   "execution_count": 89,
   "metadata": {},
   "outputs": [
    {
     "name": "stdout",
     "output_type": "stream",
     "text": [
      "Statistic: 0.7400613740836575, p-value: 0.45926275469669986, Skewed?: False\n"
     ]
    }
   ],
   "source": [
    "SkewTester(gpt2_s_sum_q.reshape((1,-1))).print_results()"
   ]
  },
  {
   "cell_type": "markdown",
   "metadata": {},
   "source": [
    "## Readability"
   ]
  },
  {
   "cell_type": "code",
   "execution_count": 93,
   "metadata": {},
   "outputs": [
    {
     "name": "stdout",
     "output_type": "stream",
     "text": [
      "Statistic: -0.9969288939028588, p-value: 0.3187990255876316, Skewed?: False\n"
     ]
    }
   ],
   "source": [
    "concat_vec_r = np.concatenate([human_r_sum_q.reshape((1,-1)), pcmg_r_sum_q.reshape((1,-1)), gpt2_r_sum_q.reshape((1,-1))], axis=1)\n",
    "SkewTester(concat_vec_r).print_results()"
   ]
  },
  {
   "cell_type": "code",
   "execution_count": 94,
   "metadata": {},
   "outputs": [
    {
     "name": "stdout",
     "output_type": "stream",
     "text": [
      "Statistic: -1.2865910583768865, p-value: 0.1982368619306507, Skewed?: False\n"
     ]
    }
   ],
   "source": [
    "SkewTester(human_r_sum_q.reshape((1,-1))).print_results()"
   ]
  },
  {
   "cell_type": "code",
   "execution_count": 95,
   "metadata": {},
   "outputs": [
    {
     "name": "stdout",
     "output_type": "stream",
     "text": [
      "Statistic: -0.2718282336380906, p-value: 0.7857540950386581, Skewed?: False\n"
     ]
    }
   ],
   "source": [
    "SkewTester(pcmg_r_sum_q.reshape((1,-1))).print_results()"
   ]
  },
  {
   "cell_type": "code",
   "execution_count": 96,
   "metadata": {},
   "outputs": [
    {
     "name": "stdout",
     "output_type": "stream",
     "text": [
      "Statistic: -0.25990885957163323, p-value: 0.7949340771243167, Skewed?: False\n"
     ]
    }
   ],
   "source": [
    "SkewTester(gpt2_r_sum_q.reshape((1,-1))).print_results()"
   ]
  },
  {
   "cell_type": "markdown",
   "metadata": {},
   "source": [
    "# ~~Hypothesis Testing (Mean)~~"
   ]
  },
  {
   "cell_type": "code",
   "execution_count": 124,
   "metadata": {},
   "outputs": [],
   "source": [
    "# PAIRED = False\n",
    "# NORMAL = False"
   ]
  },
  {
   "cell_type": "code",
   "execution_count": 51,
   "metadata": {},
   "outputs": [
    {
     "name": "stdout",
     "output_type": "stream",
     "text": [
      "Mann-Whitney U-test TOST\n",
      "p-value: 0.0452876244781712, reject_alternative: False\n"
     ]
    }
   ],
   "source": [
    "# HypothesisTester(hypo_1_mean, is_tost=True, is_pair=PAIRED, normality=NORMAL).print_results()"
   ]
  },
  {
   "cell_type": "code",
   "execution_count": 52,
   "metadata": {},
   "outputs": [
    {
     "name": "stdout",
     "output_type": "stream",
     "text": [
      "Mann-Whitney U-test TOST\n",
      "p-value: 0.03371010091856606, reject_alternative: False\n"
     ]
    }
   ],
   "source": [
    "# HypothesisTester(hypo_2_mean, is_tost=True, is_pair=PAIRED, normality=NORMAL).print_results()"
   ]
  },
  {
   "cell_type": "code",
   "execution_count": 53,
   "metadata": {},
   "outputs": [
    {
     "name": "stdout",
     "output_type": "stream",
     "text": [
      "Mann-Whitney U-test\n",
      "statistic: 82.0, p-value: 0.008461645299615038, reject_alternative: False\n"
     ]
    }
   ],
   "source": [
    "# HypothesisTester(hypo_3_mean, is_pair=PAIRED, normality=NORMAL).print_results()"
   ]
  },
  {
   "cell_type": "code",
   "execution_count": 54,
   "metadata": {},
   "outputs": [
    {
     "name": "stdout",
     "output_type": "stream",
     "text": [
      "Mann-Whitney U-test\n",
      "statistic: 75.0, p-value: 0.03191109209591804, reject_alternative: False\n"
     ]
    }
   ],
   "source": [
    "# HypothesisTester(hypo_4_mean, is_pair=PAIRED, normality=NORMAL).print_results()"
   ]
  },
  {
   "cell_type": "markdown",
   "metadata": {},
   "source": [
    "## Alternatives"
   ]
  },
  {
   "cell_type": "code",
   "execution_count": 55,
   "metadata": {},
   "outputs": [],
   "source": [
    "hypo_4_alt = np.concatenate((gpt2_r_mean_q.reshape(1,-1),human_r_mean_q.reshape(1,-1)),axis=0)"
   ]
  },
  {
   "cell_type": "code",
   "execution_count": 56,
   "metadata": {},
   "outputs": [
    {
     "name": "stdout",
     "output_type": "stream",
     "text": [
      "Mann-Whitney U-test\n",
      "statistic: 0.5, p-value: 0.9999219210091544, reject_alternative: True\n"
     ]
    }
   ],
   "source": [
    "HypothesisTester(hypo_4_alt, is_pair=PAIRED, normality=NORMAL).print_results()"
   ]
  },
  {
   "cell_type": "code",
   "execution_count": 57,
   "metadata": {},
   "outputs": [
    {
     "name": "stdout",
     "output_type": "stream",
     "text": [
      "Mann-Whitney U-test TOST\n",
      "p-value: 0.1303030303030303, reject_alternative: True\n"
     ]
    }
   ],
   "source": [
    "HypothesisTester(hypo_4_alt, is_tost=True, is_pair=PAIRED, normality=NORMAL).print_results()"
   ]
  },
  {
   "cell_type": "markdown",
   "metadata": {},
   "source": [
    "# Hypothesis Testing (Median)"
   ]
  },
  {
   "cell_type": "code",
   "execution_count": 104,
   "metadata": {},
   "outputs": [
    {
     "name": "stdout",
     "output_type": "stream",
     "text": [
      "Mann-Whitney U-test TOST\n",
      "p-value: 0.030942788904386474, reject_alternative: False\n"
     ]
    }
   ],
   "source": [
    "hypo_1.sort(axis=1)\n",
    "HypothesisTester(hypo_1, is_tost=True, is_pair=PAIRED, normality=NORMAL).print_results()"
   ]
  },
  {
   "cell_type": "code",
   "execution_count": 101,
   "metadata": {},
   "outputs": [
    {
     "name": "stdout",
     "output_type": "stream",
     "text": [
      "Mann-Whitney U-test TOST\n",
      "p-value: 0.02253291378675904, reject_alternative: False\n"
     ]
    }
   ],
   "source": [
    "hypo_2.sort(axis=1)\n",
    "HypothesisTester(hypo_2, is_tost=True, is_pair=PAIRED, normality=NORMAL).print_results()\n"
   ]
  },
  {
   "cell_type": "code",
   "execution_count": 105,
   "metadata": {},
   "outputs": [
    {
     "name": "stdout",
     "output_type": "stream",
     "text": [
      "Mann-Whitney U-test TOST\n",
      "p-value: 0.27977097174215076, reject_alternative: True\n"
     ]
    }
   ],
   "source": [
    "hypo_3.sort(axis=1)\n",
    "HypothesisTester(hypo_3, is_tost=True, is_pair=PAIRED, normality=NORMAL).print_results()"
   ]
  },
  {
   "cell_type": "code",
   "execution_count": 106,
   "metadata": {},
   "outputs": [
    {
     "name": "stdout",
     "output_type": "stream",
     "text": [
      "Mann-Whitney U-test TOST\n",
      "p-value: 0.15325214032343068, reject_alternative: True\n"
     ]
    }
   ],
   "source": [
    "hypo_4.sort(axis=1)\n",
    "HypothesisTester(hypo_4, is_tost=True, is_pair=PAIRED, normality=NORMAL).print_results()"
   ]
  },
  {
   "cell_type": "code",
   "execution_count": null,
   "metadata": {},
   "outputs": [],
   "source": []
  }
 ],
 "metadata": {
  "kernelspec": {
   "display_name": "Python 3.8.10 ('eptg_venv': venv)",
   "language": "python",
   "name": "python3"
  },
  "language_info": {
   "codemirror_mode": {
    "name": "ipython",
    "version": 3
   },
   "file_extension": ".py",
   "mimetype": "text/x-python",
   "name": "python",
   "nbconvert_exporter": "python",
   "pygments_lexer": "ipython3",
   "version": "3.8.10"
  },
  "orig_nbformat": 4,
  "vscode": {
   "interpreter": {
    "hash": "12d3484dd52b1489638fb36511337dccd465c620940d2bd74ae27fd85e19efab"
   }
  }
 },
 "nbformat": 4,
 "nbformat_minor": 2
}
